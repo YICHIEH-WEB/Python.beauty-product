{
 "cells": [
  {
   "cell_type": "markdown",
   "metadata": {},
   "source": [
    "<table style=\"float:left\">\n",
    "    <tr>\n",
    "        <td>\n",
    "            <img src=\"emlyon.png\" style=\"height:60px; float:left; padding-right:10px; margin-top:5px\" />\n",
    "        </td>\n",
    "        <td style=\"padding-bottom:10px; text-align:left;\">\n",
    "            <h1 style=\"border-bottom: 1px solid #eeeeee;\"> Python BootCamp </h1><br/>\n",
    "            <span style=\"display:inline-block; margin-top:-15px;\">\n",
    "            <a href=\"https://masters.em-lyon.com/en/msc-in-digital-marketing-data-science\">[Emlyon]</a> MSc in Digital Marketing & Data Science (DMDS)    \n",
    "            <br/>\n",
    "            Sep 2024, Paris | © Saeed VARASTEH [RP] | Jean SAVINIEN\n",
    "            </span>\n",
    "        </td>\n",
    "    </tr>\n",
    "</table>"
   ]
  },
  {
   "cell_type": "markdown",
   "metadata": {},
   "source": [
    "<div class=\"alert-info\" style=\"border-bottom: solid 1px lightgray; background-color:#fff4e3;\">\n",
    "    <img src=\"homework.png\" style=\"height:60px; float:left; padding-right:10px;\" />\n",
    "    <span style=\"font-weight:bold; color:#db9425\">\n",
    "        <h4 style=\"padding-top:25px;\"> HOMEWORK 05 </h4>\n",
    "    </span>\n",
    "</div>"
   ]
  },
  {
   "cell_type": "code",
   "execution_count": null,
   "metadata": {},
   "outputs": [],
   "source": [
    "Name = \"\""
   ]
  },
  {
   "cell_type": "markdown",
   "metadata": {},
   "source": [
    "### Homework 05 - Beauty Products\n",
    "\n",
    "The aim of this exercise is to assess your ability to apply your newly acquired coding skills to a __practical/real-world__ project.\n",
    "\n",
    "Our goal is __data exploration__, not modeling.\n",
    "\n",
    "---"
   ]
  },
  {
   "cell_type": "markdown",
   "metadata": {},
   "source": [
    "<div style=\"color:gray; background-color:#eeeeee\">\n",
    "    Dataset description\n",
    "</div>\n",
    "<br/>\n",
    "\n",
    "The __beautyproducts.csv__ file contains information on beauty products sold in more than thirty thousand Amazon stores over the past 23 years. It includes the following features for each product:\n",
    "\n",
    "- __title__: Name of the product.\n",
    "- __average_rating__: Rating of the product shown on the product page.\n",
    "- __rating_number__: Number of ratings in the product.\n",
    "- __features__: Features of the product.\n",
    "- __description__: Description of the product.\n",
    "- __images__: Images of the product. Each image has different sizes (thumb, large, hi_res).\n",
    "- __store__: Store name of the product.\n",
    "- __details__: Product details, including materials, brand, sizes, etc.\n",
    "\n",
    "Lets read the file into a Pandas DataFrame to get a first impression."
   ]
  },
  {
   "cell_type": "code",
   "execution_count": 146,
   "metadata": {},
   "outputs": [],
   "source": [
    "# libraries\n",
    "import numpy as np\n",
    "import pandas as pd\n",
    "import matplotlib.pyplot as plt\n",
    "import seaborn as sns\n",
    "\n",
    "# Pandas Options\n",
    "pd.set_option(\"display.max_rows\", 50)"
   ]
  },
  {
   "cell_type": "code",
   "execution_count": 148,
   "metadata": {},
   "outputs": [
    {
     "name": "stdout",
     "output_type": "stream",
     "text": [
      "(112590, 8)\n"
     ]
    },
    {
     "data": {
      "text/html": [
       "<div>\n",
       "<style scoped>\n",
       "    .dataframe tbody tr th:only-of-type {\n",
       "        vertical-align: middle;\n",
       "    }\n",
       "\n",
       "    .dataframe tbody tr th {\n",
       "        vertical-align: top;\n",
       "    }\n",
       "\n",
       "    .dataframe thead th {\n",
       "        text-align: right;\n",
       "    }\n",
       "</style>\n",
       "<table border=\"1\" class=\"dataframe\">\n",
       "  <thead>\n",
       "    <tr style=\"text-align: right;\">\n",
       "      <th></th>\n",
       "      <th>title</th>\n",
       "      <th>average_rating</th>\n",
       "      <th>rating_number</th>\n",
       "      <th>features</th>\n",
       "      <th>description</th>\n",
       "      <th>images</th>\n",
       "      <th>store</th>\n",
       "      <th>details</th>\n",
       "    </tr>\n",
       "  </thead>\n",
       "  <tbody>\n",
       "    <tr>\n",
       "      <th>0</th>\n",
       "      <td>Howard LC0008 Leather Conditioner, 8-Ounce (4-...</td>\n",
       "      <td>4.8</td>\n",
       "      <td>10</td>\n",
       "      <td>[]</td>\n",
       "      <td>[]</td>\n",
       "      <td>[{'thumb': 'https://m.media-amazon.com/images/...</td>\n",
       "      <td>Howard Products</td>\n",
       "      <td>{'Package Dimensions': '7.1 x 5.5 x 3 inches; ...</td>\n",
       "    </tr>\n",
       "    <tr>\n",
       "      <th>1</th>\n",
       "      <td>Yes to Tomatoes Detoxifying Charcoal Cleanser ...</td>\n",
       "      <td>4.5</td>\n",
       "      <td>3</td>\n",
       "      <td>[]</td>\n",
       "      <td>[]</td>\n",
       "      <td>[{'thumb': 'https://m.media-amazon.com/images/...</td>\n",
       "      <td>Yes To</td>\n",
       "      <td>{'Item Form': 'Powder', 'Skin Type': 'Acne Pro...</td>\n",
       "    </tr>\n",
       "    <tr>\n",
       "      <th>2</th>\n",
       "      <td>Eye Patch Black Adult with Tie Band (6 Per Pack)</td>\n",
       "      <td>4.4</td>\n",
       "      <td>26</td>\n",
       "      <td>[]</td>\n",
       "      <td>[]</td>\n",
       "      <td>[{'thumb': 'https://m.media-amazon.com/images/...</td>\n",
       "      <td>Levine Health Products</td>\n",
       "      <td>{'Manufacturer': 'Levine Health Products'}</td>\n",
       "    </tr>\n",
       "    <tr>\n",
       "      <th>3</th>\n",
       "      <td>Tattoo Eyebrow Stickers, Waterproof Eyebrow, 4...</td>\n",
       "      <td>3.1</td>\n",
       "      <td>102</td>\n",
       "      <td>[]</td>\n",
       "      <td>[]</td>\n",
       "      <td>[{'thumb': 'https://m.media-amazon.com/images/...</td>\n",
       "      <td>Cherioll</td>\n",
       "      <td>{'Brand': 'Cherioll', 'Item Form': 'Powder', '...</td>\n",
       "    </tr>\n",
       "    <tr>\n",
       "      <th>4</th>\n",
       "      <td>Precision Plunger Bars for Cartridge Grips – 9...</td>\n",
       "      <td>4.3</td>\n",
       "      <td>7</td>\n",
       "      <td>['Material: 304 Stainless Steel; Brass tip', '...</td>\n",
       "      <td>['The Precision Plunger Bars are designed to w...</td>\n",
       "      <td>[{'thumb': 'https://m.media-amazon.com/images/...</td>\n",
       "      <td>Precision</td>\n",
       "      <td>{'UPC': '644287689178'}</td>\n",
       "    </tr>\n",
       "  </tbody>\n",
       "</table>\n",
       "</div>"
      ],
      "text/plain": [
       "                                               title  average_rating  \\\n",
       "0  Howard LC0008 Leather Conditioner, 8-Ounce (4-...             4.8   \n",
       "1  Yes to Tomatoes Detoxifying Charcoal Cleanser ...             4.5   \n",
       "2   Eye Patch Black Adult with Tie Band (6 Per Pack)             4.4   \n",
       "3  Tattoo Eyebrow Stickers, Waterproof Eyebrow, 4...             3.1   \n",
       "4  Precision Plunger Bars for Cartridge Grips – 9...             4.3   \n",
       "\n",
       "   rating_number                                           features  \\\n",
       "0             10                                                 []   \n",
       "1              3                                                 []   \n",
       "2             26                                                 []   \n",
       "3            102                                                 []   \n",
       "4              7  ['Material: 304 Stainless Steel; Brass tip', '...   \n",
       "\n",
       "                                         description  \\\n",
       "0                                                 []   \n",
       "1                                                 []   \n",
       "2                                                 []   \n",
       "3                                                 []   \n",
       "4  ['The Precision Plunger Bars are designed to w...   \n",
       "\n",
       "                                              images                   store  \\\n",
       "0  [{'thumb': 'https://m.media-amazon.com/images/...         Howard Products   \n",
       "1  [{'thumb': 'https://m.media-amazon.com/images/...                  Yes To   \n",
       "2  [{'thumb': 'https://m.media-amazon.com/images/...  Levine Health Products   \n",
       "3  [{'thumb': 'https://m.media-amazon.com/images/...                Cherioll   \n",
       "4  [{'thumb': 'https://m.media-amazon.com/images/...               Precision   \n",
       "\n",
       "                                             details  \n",
       "0  {'Package Dimensions': '7.1 x 5.5 x 3 inches; ...  \n",
       "1  {'Item Form': 'Powder', 'Skin Type': 'Acne Pro...  \n",
       "2         {'Manufacturer': 'Levine Health Products'}  \n",
       "3  {'Brand': 'Cherioll', 'Item Form': 'Powder', '...  \n",
       "4                            {'UPC': '644287689178'}  "
      ]
     },
     "execution_count": 148,
     "metadata": {},
     "output_type": "execute_result"
    }
   ],
   "source": [
    "df = pd.read_csv('beautyproducts.csv')\n",
    "print(df.shape)\n",
    "df.head(5)\n"
   ]
  },
  {
   "cell_type": "code",
   "execution_count": 149,
   "metadata": {},
   "outputs": [
    {
     "data": {
      "text/plain": [
       "Index(['title', 'average_rating', 'rating_number', 'features', 'description',\n",
       "       'images', 'store', 'details'],\n",
       "      dtype='object')"
      ]
     },
     "execution_count": 149,
     "metadata": {},
     "output_type": "execute_result"
    }
   ],
   "source": [
    "df.columns"
   ]
  },
  {
   "cell_type": "markdown",
   "metadata": {},
   "source": [
    "You need to know that working with real-world data is not as straightforward as it was in the classroom with mostly synthetic/clean data sets. \n",
    "\n",
    "Most of the time you will be working with large datasets like this one. Or you will be dealing with columns such as __features__, __description__, __images__, and __details__ that contain multiple values as a list or dictionary, which will add another layer of data processing as we work with these columns. \n",
    "\n",
    "For example, let us select a product from the \"Estee Lauder\" store and see what we have on it. e.g. index 4249."
   ]
  },
  {
   "cell_type": "code",
   "execution_count": 151,
   "metadata": {},
   "outputs": [
    {
     "data": {
      "text/plain": [
       "title             Stain Bonnet For Baby Bonnet Silk Sleep Cap Fo...\n",
       "average_rating                                                  4.1\n",
       "rating_number                                                    50\n",
       "features                                                         []\n",
       "description                                                      []\n",
       "images            [{'thumb': 'https://m.media-amazon.com/images/...\n",
       "store                                                      Edoneery\n",
       "details           {'Brand': 'Edoneery', 'Material': 'Silk', 'Num...\n",
       "Name: 6, dtype: object"
      ]
     },
     "execution_count": 151,
     "metadata": {},
     "output_type": "execute_result"
    }
   ],
   "source": [
    "idx = 6\n",
    "df.iloc[idx] # show a unique row, the format is \"Series\""
   ]
  },
  {
   "cell_type": "code",
   "execution_count": 152,
   "metadata": {},
   "outputs": [
    {
     "data": {
      "text/plain": [
       "'Stain Bonnet For Baby Bonnet Silk Sleep Cap For Toddler Child Shower Cap Teens Kids'"
      ]
     },
     "execution_count": 152,
     "metadata": {},
     "output_type": "execute_result"
    }
   ],
   "source": [
    "# title\n",
    "df.iloc[idx].title"
   ]
  },
  {
   "cell_type": "code",
   "execution_count": 153,
   "metadata": {},
   "outputs": [
    {
     "name": "stdout",
     "output_type": "stream",
     "text": [
      "title             Howard LC0008 Leather Conditioner, 8-Ounce (4-...\n",
      "average_rating                                                  4.8\n",
      "rating_number                                                    10\n",
      "features                                                         []\n",
      "description                                                      []\n",
      "images            [{'thumb': 'https://m.media-amazon.com/images/...\n",
      "store                                               Howard Products\n",
      "details           {'Package Dimensions': '7.1 x 5.5 x 3 inches; ...\n",
      "Name: 0, dtype: object\n",
      "title             Yes to Tomatoes Detoxifying Charcoal Cleanser ...\n",
      "average_rating                                                  4.5\n",
      "rating_number                                                     3\n",
      "features                                                         []\n",
      "description                                                      []\n",
      "images            [{'thumb': 'https://m.media-amazon.com/images/...\n",
      "store                                                        Yes To\n",
      "details           {'Item Form': 'Powder', 'Skin Type': 'Acne Pro...\n",
      "Name: 1, dtype: object\n",
      "title              Eye Patch Black Adult with Tie Band (6 Per Pack)\n",
      "average_rating                                                  4.4\n",
      "rating_number                                                    26\n",
      "features                                                         []\n",
      "description                                                      []\n",
      "images            [{'thumb': 'https://m.media-amazon.com/images/...\n",
      "store                                        Levine Health Products\n",
      "details                  {'Manufacturer': 'Levine Health Products'}\n",
      "Name: 2, dtype: object\n",
      "title             Tattoo Eyebrow Stickers, Waterproof Eyebrow, 4...\n",
      "average_rating                                                  3.1\n",
      "rating_number                                                   102\n",
      "features                                                         []\n",
      "description                                                      []\n",
      "images            [{'thumb': 'https://m.media-amazon.com/images/...\n",
      "store                                                      Cherioll\n",
      "details           {'Brand': 'Cherioll', 'Item Form': 'Powder', '...\n",
      "Name: 3, dtype: object\n",
      "title             Precision Plunger Bars for Cartridge Grips – 9...\n",
      "average_rating                                                  4.3\n",
      "rating_number                                                     7\n",
      "features          ['Material: 304 Stainless Steel; Brass tip', '...\n",
      "description       ['The Precision Plunger Bars are designed to w...\n",
      "images            [{'thumb': 'https://m.media-amazon.com/images/...\n",
      "store                                                     Precision\n",
      "details                                     {'UPC': '644287689178'}\n",
      "Name: 4, dtype: object\n"
     ]
    }
   ],
   "source": [
    "for idx in range(5):  # show 5 rows products and with  series format\n",
    "    print(df.iloc[idx])\n",
    "    "
   ]
  },
  {
   "cell_type": "markdown",
   "metadata": {},
   "source": [
    "Titles are stored as __text__ exactly as we can find them on the Amazon webpage."
   ]
  },
  {
   "cell_type": "code",
   "execution_count": 155,
   "metadata": {},
   "outputs": [
    {
     "data": {
      "text/plain": [
       "(4.3, 7)"
      ]
     },
     "execution_count": 155,
     "metadata": {},
     "output_type": "execute_result"
    }
   ],
   "source": [
    "# average_rating and rating_number\n",
    "\n",
    "df.iloc[idx].average_rating, df.iloc[idx].rating_number"
   ]
  },
  {
   "cell_type": "markdown",
   "metadata": {},
   "source": [
    "The average rating and rating number columns have __numeric__ values."
   ]
  },
  {
   "cell_type": "code",
   "execution_count": 163,
   "metadata": {},
   "outputs": [
    {
     "data": {
      "text/plain": [
       "\"{'Brand': 'Neutral', 'Item Form': 'Wax', 'Unit Count': '1.00 Count', 'Material Feature': 'Natural', 'Package Dimensions': '2.83 x 2.83 x 2.05 inches; 5.29 Ounces', 'UPC': '718893086086'}\""
      ]
     },
     "execution_count": 163,
     "metadata": {},
     "output_type": "execute_result"
    }
   ],
   "source": [
    "df.iloc[54].details"
   ]
  },
  {
   "cell_type": "code",
   "execution_count": 165,
   "metadata": {},
   "outputs": [
    {
     "data": {
      "text/plain": [
       "\"['Material: 304 Stainless Steel; Brass tip', 'Lengths Available: 88mm, 93mm, 98mm', 'Accepts cartridge needles with vice style tattoo machines', 'Works perfectly with Precision Disposable Soft Cartridge Grips', 'Price per one bag of 10 plungers']\""
      ]
     },
     "execution_count": 165,
     "metadata": {},
     "output_type": "execute_result"
    }
   ],
   "source": [
    "# features\n",
    "df.iloc[idx].features"
   ]
  },
  {
   "cell_type": "markdown",
   "metadata": {},
   "source": [
    "Features should be stored as a __list of strings__. But if you look closely, the output is also quoted. That means the type is string. We need to fix this because we want the output to be a list so that we can select an element from it.\n",
    "\n",
    "<span style=\"color:crimson\">Note:</span> This problem is common in real-world data sets.\n",
    "\n",
    "To convert these strings into actual Python lists, you can use `ast.literal_eval()` from the `ast` module, which safely evaluates strings containing Python expressions and converts them to the corresponding data type. Here's how you can apply it:"
   ]
  },
  {
   "cell_type": "code",
   "execution_count": 168,
   "metadata": {},
   "outputs": [
    {
     "data": {
      "text/plain": [
       "['Material: 304 Stainless Steel; Brass tip',\n",
       " 'Lengths Available: 88mm, 93mm, 98mm',\n",
       " 'Accepts cartridge needles with vice style tattoo machines',\n",
       " 'Works perfectly with Precision Disposable Soft Cartridge Grips',\n",
       " 'Price per one bag of 10 plungers']"
      ]
     },
     "execution_count": 168,
     "metadata": {},
     "output_type": "execute_result"
    }
   ],
   "source": [
    "import ast\n",
    "ast.literal_eval( df.iloc[idx].features ) #字面意義"
   ]
  },
  {
   "cell_type": "markdown",
   "metadata": {},
   "source": [
    "Good! You can simply apply this function to the entire column to convert the values from strings (objects) to lists."
   ]
  },
  {
   "cell_type": "code",
   "execution_count": 171,
   "metadata": {},
   "outputs": [],
   "source": [
    "df[\"features\"] = df[\"features\"].apply(ast.literal_eval) #用apply function 去apply another function"
   ]
  },
  {
   "cell_type": "markdown",
   "metadata": {},
   "source": [
    "Let us check our previous code again:"
   ]
  },
  {
   "cell_type": "code",
   "execution_count": 174,
   "metadata": {},
   "outputs": [
    {
     "data": {
      "text/plain": [
       "['Material: 304 Stainless Steel; Brass tip',\n",
       " 'Lengths Available: 88mm, 93mm, 98mm',\n",
       " 'Accepts cartridge needles with vice style tattoo machines',\n",
       " 'Works perfectly with Precision Disposable Soft Cartridge Grips',\n",
       " 'Price per one bag of 10 plungers']"
      ]
     },
     "execution_count": 174,
     "metadata": {},
     "output_type": "execute_result"
    }
   ],
   "source": [
    "# features\n",
    "df.iloc[idx].features"
   ]
  },
  {
   "cell_type": "markdown",
   "metadata": {},
   "source": [
    "Voila! Lets do this for __description__, __images__ and __details__ columns as well."
   ]
  },
  {
   "cell_type": "code",
   "execution_count": 177,
   "metadata": {},
   "outputs": [],
   "source": [
    "df[\"description\"] = df[\"description\"].apply(ast.literal_eval)\n",
    "df[\"images\"] = df[\"images\"].apply(ast.literal_eval)\n",
    "df[\"details\"] = df[\"details\"].apply(ast.literal_eval)"
   ]
  },
  {
   "cell_type": "code",
   "execution_count": 178,
   "metadata": {},
   "outputs": [
    {
     "data": {
      "text/plain": [
       "['The Precision Plunger Bars are designed to work seamlessly with the\\xa0Precision Disposable 1. 25\" Contoured Soft Cartridge Grips\\xa0and the\\xa0Precision Disposable 1\" Textured Soft Cartridge Grips\\xa0to drive cartridge needles with vice style or standard tattoo machine setups. These plunger bars are manufactured from 304 Stainless Steel and feature a brass tip. The plungers are sold in a bag of ten in your choice of 88mm, 93mm, or 98mm length.']"
      ]
     },
     "execution_count": 178,
     "metadata": {},
     "output_type": "execute_result"
    }
   ],
   "source": [
    "# description\n",
    "df.iloc[idx].description\n"
   ]
  },
  {
   "cell_type": "code",
   "execution_count": 179,
   "metadata": {},
   "outputs": [
    {
     "data": {
      "text/plain": [
       "[{'thumb': 'https://m.media-amazon.com/images/I/31TgqAZ8kQL._SS40_.jpg',\n",
       "  'large': 'https://m.media-amazon.com/images/I/31TgqAZ8kQL.jpg',\n",
       "  'variant': 'MAIN',\n",
       "  'hi_res': None}]"
      ]
     },
     "execution_count": 179,
     "metadata": {},
     "output_type": "execute_result"
    }
   ],
   "source": [
    "# images\n",
    "df.iloc[idx].images"
   ]
  },
  {
   "cell_type": "markdown",
   "metadata": {},
   "source": [
    "Image information is stored as a __list of dictionaries__. For each image we have four features (thumb, large, variant, hi_res) in a dictionary-style format. For example, to get the high resolution version of the first image, we can write:"
   ]
  },
  {
   "cell_type": "code",
   "execution_count": 181,
   "metadata": {},
   "outputs": [],
   "source": [
    "df.iloc[idx].images[0][\"hi_res\"]"
   ]
  },
  {
   "cell_type": "markdown",
   "metadata": {},
   "source": [
    "Click the link to see how reliable the links are in this dataset."
   ]
  },
  {
   "cell_type": "code",
   "execution_count": 183,
   "metadata": {},
   "outputs": [
    {
     "data": {
      "text/plain": [
       "{'UPC': '644287689178'}"
      ]
     },
     "execution_count": 183,
     "metadata": {},
     "output_type": "execute_result"
    }
   ],
   "source": [
    "# details\n",
    "df.iloc[idx].details"
   ]
  },
  {
   "cell_type": "markdown",
   "metadata": {},
   "source": [
    "The data in this column is stored as a __dictionary__. \n",
    "\n",
    "This column stores many details about the product and it is different from one product to another! change the __idx__ to see for yourself."
   ]
  },
  {
   "cell_type": "markdown",
   "metadata": {},
   "source": [
    "---"
   ]
  },
  {
   "cell_type": "markdown",
   "metadata": {},
   "source": [
    "<div style=\"color:gray; background-color:#eeeeee\">\n",
    "    Your Task\n",
    "</div>"
   ]
  },
  {
   "cell_type": "markdown",
   "metadata": {},
   "source": [
    "You are a data analyst in a startup company targeting the beauty market. You are not given a specific task to do! Your job is to extract as much information as you can from this dataset to help your company's marketing strategies.\n",
    "\n",
    "Here are some questions you can answer.\n",
    "\n",
    "- How many stores are in the dataset? \n",
    "- Which stores sell the most number of items?\n",
    "- How many brands are selling items in the dataset?\n",
    "- Which brands have the highest ratings? \n",
    "- Which products have the highest average rating? List the top 50. Use products with number of rating greater than 1000.\n",
    "- Do these top-rated products share common characteristics?\n",
    "- Display images and print details of the top 10 highest-rated products.\n",
    "- What will be a good marketing strategy when your company launches its first product?\n",
    "\n",
    "Add at least __7__ more questions of your choice to this list and try to answer them.\n",
    "\n",
    "Comment/document everything."
   ]
  },
  {
   "cell_type": "markdown",
   "metadata": {},
   "source": [
    "# 1. How many stores are in the dataset?"
   ]
  },
  {
   "cell_type": "code",
   "execution_count": 189,
   "metadata": {},
   "outputs": [
    {
     "data": {
      "text/plain": [
       "store\n",
       "Bath & Body Works    481\n",
       "WILLBOND             388\n",
       "Hairro               381\n",
       "Generic              369\n",
       "S-noilite            340\n",
       "                    ... \n",
       "STAUB                  1\n",
       "YUATCYA                1\n",
       "starbuzz               1\n",
       "Heladerm               1\n",
       "DVIO                   1\n",
       "Name: count, Length: 30761, dtype: int64"
      ]
     },
     "execution_count": 189,
     "metadata": {},
     "output_type": "execute_result"
    }
   ],
   "source": [
    " stores=df['store'].value_counts()\n",
    "stores\n",
    "# Answer: length means unique store: 30761"
   ]
  },
  {
   "cell_type": "markdown",
   "metadata": {},
   "source": [
    "---"
   ]
  },
  {
   "cell_type": "markdown",
   "metadata": {},
   "source": [
    "# 2. Which stores sell the most number of items?\n"
   ]
  },
  {
   "cell_type": "code",
   "execution_count": 192,
   "metadata": {},
   "outputs": [],
   "source": [
    "# Answer: same above. I can see that \"Bath & Body Works\" has  481 rows on the top, meaning have the most products "
   ]
  },
  {
   "cell_type": "markdown",
   "metadata": {},
   "source": [
    "# 3. How many brands are selling items in the dataset? "
   ]
  },
  {
   "cell_type": "code",
   "execution_count": 194,
   "metadata": {},
   "outputs": [
    {
     "data": {
      "text/plain": [
       "22962"
      ]
     },
     "execution_count": 194,
     "metadata": {},
     "output_type": "execute_result"
    }
   ],
   "source": [
    "def extract_brand(details):\n",
    "    return details.get('Brand','None') # extract the KEY: brand, return its VALUE; otherwise, print None\n",
    "\n",
    "#create BRAND column, apply the function created EXTRACT_BRAND to each rows detail and put in BRAND column\n",
    "df['brand'] = df['details'].apply(extract_brand)\n",
    "\n",
    "#count unique brands  with nunique()\n",
    "unique_brands = df['brand'].nunique()\n",
    "\n",
    "unique_brands\n",
    "\n",
    "# Answer: Number of unique brands: 22,962-1 = 22,961\n",
    "# minus -1  means deducting the \"None\" value which doesn't have the KEY:brand \n"
   ]
  },
  {
   "cell_type": "markdown",
   "metadata": {},
   "source": [
    "# 4. Which brands have the highest ratings? \n",
    "\n",
    "df['brand'] = df['details'].apply(extract_brand)\n"
   ]
  },
  {
   "cell_type": "code",
   "execution_count": 196,
   "metadata": {},
   "outputs": [
    {
     "data": {
      "text/plain": [
       "5.0"
      ]
     },
     "execution_count": 196,
     "metadata": {},
     "output_type": "execute_result"
    }
   ],
   "source": [
    "# Step 1: know which score is the highest \n",
    "df['average_rating'].max() "
   ]
  },
  {
   "cell_type": "code",
   "execution_count": 197,
   "metadata": {},
   "outputs": [
    {
     "name": "stdout",
     "output_type": "stream",
     "text": [
      "0\n"
     ]
    }
   ],
   "source": [
    "# Step 2: check if there is null value in brnad column: clean data first\n",
    "print(df['brand'].isnull().sum()) "
   ]
  },
  {
   "cell_type": "code",
   "execution_count": 198,
   "metadata": {},
   "outputs": [
    {
     "name": "stdout",
     "output_type": "stream",
     "text": [
      "There are many brands such as ['Dionis' 'House of Armáf' 'Gojo' ... 'MuLier' 'Hongo' 'KAIQIKAIXI'] and total have: 4590brands\n"
     ]
    }
   ],
   "source": [
    "# Step 3: select the brands have score 5, and don't select the NONE from the brand column \n",
    "# my own note: df.loc[row condition wanted, column name want to be shown]\n",
    "\n",
    "high=df.loc[(df['average_rating']==5)&(df['brand']!='None'),'brand'].unique()\n",
    "print(f\"There are many brands such as {high} and total have: {len(high)}brands\")\n",
    "\n",
    "#Answer: the brands below which have at least one product having the score equal to 5, meaning the highest ratings  \n",
    "## Note for Saeed: your question looks a bit amigiuous. \n",
    "# I don't know if you meant which brands have the highest ratings \"Amoung all their products in terms of average ratings\" or you meant what I wrote in the coding.\n",
    "# I assume that there are two interpretation. I just pick one to write. \n"
   ]
  },
  {
   "cell_type": "markdown",
   "metadata": {},
   "source": [
    "# 5. Which products have the highest average rating? List the top 50. Use products with the number of ratings greater than 1000."
   ]
  },
  {
   "cell_type": "code",
   "execution_count": 200,
   "metadata": {},
   "outputs": [
    {
     "data": {
      "text/html": [
       "<div>\n",
       "<style scoped>\n",
       "    .dataframe tbody tr th:only-of-type {\n",
       "        vertical-align: middle;\n",
       "    }\n",
       "\n",
       "    .dataframe tbody tr th {\n",
       "        vertical-align: top;\n",
       "    }\n",
       "\n",
       "    .dataframe thead th {\n",
       "        text-align: right;\n",
       "    }\n",
       "</style>\n",
       "<table border=\"1\" class=\"dataframe\">\n",
       "  <thead>\n",
       "    <tr style=\"text-align: right;\">\n",
       "      <th></th>\n",
       "      <th>title</th>\n",
       "      <th>average_rating</th>\n",
       "      <th>rating_number</th>\n",
       "      <th>features</th>\n",
       "      <th>description</th>\n",
       "      <th>images</th>\n",
       "      <th>store</th>\n",
       "      <th>details</th>\n",
       "      <th>brand</th>\n",
       "    </tr>\n",
       "  </thead>\n",
       "  <tbody>\n",
       "    <tr>\n",
       "      <th>63448</th>\n",
       "      <td>100 Letterpress Note Cards and Self Seal Envel...</td>\n",
       "      <td>4.9</td>\n",
       "      <td>2322</td>\n",
       "      <td>[SELF SEAL ENVELOPES: Perfect for bulk mailing...</td>\n",
       "      <td>[Luxury Note Cards at an Affordable Price, Sho...</td>\n",
       "      <td>[{'thumb': 'https://m.media-amazon.com/images/...</td>\n",
       "      <td>Opie's Paper Co.</td>\n",
       "      <td>{'Is Discontinued By Manufacturer': 'No', 'Pro...</td>\n",
       "      <td>None</td>\n",
       "    </tr>\n",
       "    <tr>\n",
       "      <th>33374</th>\n",
       "      <td>Corn Huskers Lotion 7 oz ( Pack of 4)</td>\n",
       "      <td>4.9</td>\n",
       "      <td>1027</td>\n",
       "      <td>[Moisturizes and softens dry skin, Soothes irr...</td>\n",
       "      <td>[4 Bottles of CORN HUSKERS LOTION 7 oz   OIL F...</td>\n",
       "      <td>[{'thumb': 'https://m.media-amazon.com/images/...</td>\n",
       "      <td>Johnson &amp; Johnson</td>\n",
       "      <td>{'Brand': 'Johnson &amp; Johnson', 'Item Form': 'L...</td>\n",
       "      <td>Johnson &amp; Johnson</td>\n",
       "    </tr>\n",
       "    <tr>\n",
       "      <th>95465</th>\n",
       "      <td>Graham Sanek Neck Strips- 2.5 x 17.5-12 pks w/...</td>\n",
       "      <td>4.8</td>\n",
       "      <td>1662</td>\n",
       "      <td>[Made of a soft, highly absorbent tissue, Neck...</td>\n",
       "      <td>[Graham Sanek Neck Strips 720 Strips/ pk]</td>\n",
       "      <td>[{'thumb': 'https://m.media-amazon.com/images/...</td>\n",
       "      <td>Graham Professional</td>\n",
       "      <td>{'Is Discontinued By Manufacturer': 'No', 'Pac...</td>\n",
       "      <td>None</td>\n",
       "    </tr>\n",
       "    <tr>\n",
       "      <th>76279</th>\n",
       "      <td>Tigi Bed Head Manipulator 2oz (3 PACK)</td>\n",
       "      <td>4.8</td>\n",
       "      <td>1260</td>\n",
       "      <td>[tigi]</td>\n",
       "      <td>[]</td>\n",
       "      <td>[{'thumb': 'https://m.media-amazon.com/images/...</td>\n",
       "      <td>TIGI</td>\n",
       "      <td>{'Product Benefits': 'Frizz Control', 'Hair Ty...</td>\n",
       "      <td>None</td>\n",
       "    </tr>\n",
       "    <tr>\n",
       "      <th>93953</th>\n",
       "      <td>1\" Metallic Red, Silver &amp; Blue Stars Shape Foi...</td>\n",
       "      <td>4.8</td>\n",
       "      <td>12203</td>\n",
       "      <td>[]</td>\n",
       "      <td>[ASIN020]</td>\n",
       "      <td>[{'thumb': 'https://m.media-amazon.com/images/...</td>\n",
       "      <td>Garage Sale Pup</td>\n",
       "      <td>{'Color': 'Asin020', 'Size': 'ASIN020', 'Brand...</td>\n",
       "      <td>Garage Sale Pup</td>\n",
       "    </tr>\n",
       "    <tr>\n",
       "      <th>63417</th>\n",
       "      <td>2-1/4\" x 1-1/4\" Chalkboard Black Paper Label S...</td>\n",
       "      <td>4.8</td>\n",
       "      <td>10913</td>\n",
       "      <td>[]</td>\n",
       "      <td>[ASIN007]</td>\n",
       "      <td>[{'thumb': 'https://m.media-amazon.com/images/...</td>\n",
       "      <td>Garage Sale Pup</td>\n",
       "      <td>{'Color': 'Asin007', 'Size': 'ASIN007', 'Brand...</td>\n",
       "      <td>Garage Sale Pup</td>\n",
       "    </tr>\n",
       "    <tr>\n",
       "      <th>15974</th>\n",
       "      <td>Janeke Superbrush Brush (Green/Purple - 86SP22...</td>\n",
       "      <td>4.8</td>\n",
       "      <td>1708</td>\n",
       "      <td>[Flexible bristles gently massage the scalp. E...</td>\n",
       "      <td>[]</td>\n",
       "      <td>[{'thumb': 'https://m.media-amazon.com/images/...</td>\n",
       "      <td>Jäneke</td>\n",
       "      <td>{'Brand': 'Jäneke', 'Color': 'Green,Purple', '...</td>\n",
       "      <td>Jäneke</td>\n",
       "    </tr>\n",
       "    <tr>\n",
       "      <th>3954</th>\n",
       "      <td>Self Adhesive Tape - Yuelong 24Pack 2” x 5 Yar...</td>\n",
       "      <td>4.8</td>\n",
       "      <td>1406</td>\n",
       "      <td>[HIGH GRADE MATERIAL - The cohesive bandage wr...</td>\n",
       "      <td>[]</td>\n",
       "      <td>[{'thumb': 'https://m.media-amazon.com/images/...</td>\n",
       "      <td>Yuelong</td>\n",
       "      <td>{'Package Dimensions': '9.5 x 7.2 x 4.6 inches...</td>\n",
       "      <td>None</td>\n",
       "    </tr>\n",
       "    <tr>\n",
       "      <th>63206</th>\n",
       "      <td>1.5\" Heart Shape Kraft Paper Thank You Adhesiv...</td>\n",
       "      <td>4.8</td>\n",
       "      <td>10913</td>\n",
       "      <td>[]</td>\n",
       "      <td>[ASIN001]</td>\n",
       "      <td>[{'thumb': 'https://m.media-amazon.com/images/...</td>\n",
       "      <td>Garage Sale Pup</td>\n",
       "      <td>{'Color': 'Asin001', 'Size': 'ASIN001', 'Brand...</td>\n",
       "      <td>Garage Sale Pup</td>\n",
       "    </tr>\n",
       "    <tr>\n",
       "      <th>77291</th>\n",
       "      <td>Hibiclens Antiseptic &amp; Antimicrobial Skin Clea...</td>\n",
       "      <td>4.8</td>\n",
       "      <td>2140</td>\n",
       "      <td>[Non-flammable formula, Less-irritating than o...</td>\n",
       "      <td>[Skin wound and general skin cleansing: Thorou...</td>\n",
       "      <td>[{'thumb': 'https://m.media-amazon.com/images/...</td>\n",
       "      <td>YYOJ</td>\n",
       "      <td>{'Item Form': 'Liquid', 'Brand': 'YYOJ', 'Mate...</td>\n",
       "      <td>YYOJ</td>\n",
       "    </tr>\n",
       "    <tr>\n",
       "      <th>92150</th>\n",
       "      <td>Segbeauty empty bottle 290</td>\n",
       "      <td>4.8</td>\n",
       "      <td>4920</td>\n",
       "      <td>[]</td>\n",
       "      <td>[]</td>\n",
       "      <td>[{'thumb': 'https://m.media-amazon.com/images/...</td>\n",
       "      <td>TruuMe</td>\n",
       "      <td>{'Brand': 'Segbeauty', 'Color': 'Clear', 'Mate...</td>\n",
       "      <td>Segbeauty</td>\n",
       "    </tr>\n",
       "    <tr>\n",
       "      <th>93453</th>\n",
       "      <td>Pack of 1008 1\" Round Color Coding Circle Dot ...</td>\n",
       "      <td>4.8</td>\n",
       "      <td>12198</td>\n",
       "      <td>[]</td>\n",
       "      <td>[]</td>\n",
       "      <td>[{'thumb': 'https://m.media-amazon.com/images/...</td>\n",
       "      <td>Garage Sale Pup</td>\n",
       "      <td>{'Color': 'Asin019', 'Size': 'ASIN019', 'Brand...</td>\n",
       "      <td>Garage Sale Pup</td>\n",
       "    </tr>\n",
       "    <tr>\n",
       "      <th>41410</th>\n",
       "      <td>Jack Black MP 10 Nourishing Oil, 2 Fl Oz</td>\n",
       "      <td>4.8</td>\n",
       "      <td>1040</td>\n",
       "      <td>[]</td>\n",
       "      <td>[]</td>\n",
       "      <td>[{'thumb': 'https://m.media-amazon.com/images/...</td>\n",
       "      <td>NaN</td>\n",
       "      <td>{'Brand': 'Jack Black', 'Scent': 'Watermelon, ...</td>\n",
       "      <td>Jack Black</td>\n",
       "    </tr>\n",
       "    <tr>\n",
       "      <th>90686</th>\n",
       "      <td>Red Heart Shaped Sticker Labels, 1 1/4\" Diamet...</td>\n",
       "      <td>4.8</td>\n",
       "      <td>12196</td>\n",
       "      <td>[]</td>\n",
       "      <td>[]</td>\n",
       "      <td>[{'thumb': 'https://m.media-amazon.com/images/...</td>\n",
       "      <td>Garage Sale Pup</td>\n",
       "      <td>{'Color': '36k', 'Size': '36K', 'Brand': 'Gara...</td>\n",
       "      <td>Garage Sale Pup</td>\n",
       "    </tr>\n",
       "    <tr>\n",
       "      <th>59370</th>\n",
       "      <td>1 Inch Round Thank You Sticker Labels in Scrip...</td>\n",
       "      <td>4.8</td>\n",
       "      <td>4164</td>\n",
       "      <td>[]</td>\n",
       "      <td>[]</td>\n",
       "      <td>[{'thumb': 'https://m.media-amazon.com/images/...</td>\n",
       "      <td>Garage Sale Pup</td>\n",
       "      <td>{'Color': 'Asin021', 'Size': 'ASIN021', 'Brand...</td>\n",
       "      <td>Garage Sale Pup</td>\n",
       "    </tr>\n",
       "    <tr>\n",
       "      <th>88581</th>\n",
       "      <td>3/4\" Bright Red Round Color Coding Circle Dot ...</td>\n",
       "      <td>4.8</td>\n",
       "      <td>12205</td>\n",
       "      <td>[]</td>\n",
       "      <td>[]</td>\n",
       "      <td>[{'thumb': 'https://m.media-amazon.com/images/...</td>\n",
       "      <td>Garage Sale Pup</td>\n",
       "      <td>{'Color': 'Pcs-361', 'Size': 'pcs-361', 'Brand...</td>\n",
       "      <td>Garage Sale Pup</td>\n",
       "    </tr>\n",
       "    <tr>\n",
       "      <th>88535</th>\n",
       "      <td>1 Inch Round Thank You Sticker Labels with Red...</td>\n",
       "      <td>4.8</td>\n",
       "      <td>12205</td>\n",
       "      <td>[]</td>\n",
       "      <td>[]</td>\n",
       "      <td>[{'thumb': 'https://m.media-amazon.com/images/...</td>\n",
       "      <td>Garage Sale Pup</td>\n",
       "      <td>{'Color': 'Pcs-358', 'Size': 'pcs-358', 'Brand...</td>\n",
       "      <td>Garage Sale Pup</td>\n",
       "    </tr>\n",
       "    <tr>\n",
       "      <th>79425</th>\n",
       "      <td>1 Inch Round Thank You Sticker Labels in Scrip...</td>\n",
       "      <td>4.8</td>\n",
       "      <td>10789</td>\n",
       "      <td>[]</td>\n",
       "      <td>[]</td>\n",
       "      <td>[{'thumb': 'https://m.media-amazon.com/images/...</td>\n",
       "      <td>Garage Sale Pup</td>\n",
       "      <td>{'Is Discontinued By Manufacturer': 'No', 'Pro...</td>\n",
       "      <td>None</td>\n",
       "    </tr>\n",
       "    <tr>\n",
       "      <th>43461</th>\n",
       "      <td>Clinique Dramatically Different Moisturizing L...</td>\n",
       "      <td>4.8</td>\n",
       "      <td>1511</td>\n",
       "      <td>[]</td>\n",
       "      <td>[]</td>\n",
       "      <td>[{'thumb': 'https://m.media-amazon.com/images/...</td>\n",
       "      <td>Clinique</td>\n",
       "      <td>{'Brand': 'Clinique', 'Scent': 'Fragrance Free...</td>\n",
       "      <td>Clinique</td>\n",
       "    </tr>\n",
       "    <tr>\n",
       "      <th>85863</th>\n",
       "      <td>Gauge Gear Ear Stretching Balm | 10 ml Jar | P...</td>\n",
       "      <td>4.8</td>\n",
       "      <td>3876</td>\n",
       "      <td>[LUBRICANT - Gauge Gear lubricates your skin w...</td>\n",
       "      <td>[]</td>\n",
       "      <td>[{'thumb': 'https://m.media-amazon.com/images/...</td>\n",
       "      <td>Gauge Gear</td>\n",
       "      <td>{'Is Discontinued By Manufacturer': 'No', 'Pac...</td>\n",
       "      <td>None</td>\n",
       "    </tr>\n",
       "    <tr>\n",
       "      <th>43919</th>\n",
       "      <td>Soft &amp; Dri, Aerosol, Antiperspirant Deodorant,...</td>\n",
       "      <td>4.8</td>\n",
       "      <td>1661</td>\n",
       "      <td>[]</td>\n",
       "      <td>[]</td>\n",
       "      <td>[{'thumb': 'https://m.media-amazon.com/images/...</td>\n",
       "      <td>Soft &amp; Dri</td>\n",
       "      <td>{'Brand': 'Soft &amp; Dri', 'Item Form': 'Spray', ...</td>\n",
       "      <td>Soft &amp; Dri</td>\n",
       "    </tr>\n",
       "    <tr>\n",
       "      <th>5537</th>\n",
       "      <td>Broadway Vita-Lip Argan Oil Lip Gloss</td>\n",
       "      <td>4.8</td>\n",
       "      <td>1704</td>\n",
       "      <td>[]</td>\n",
       "      <td>[]</td>\n",
       "      <td>[{'thumb': 'https://m.media-amazon.com/images/...</td>\n",
       "      <td>Broadway</td>\n",
       "      <td>{'Brand': 'Broadway', 'Skin Type': 'All', 'Ite...</td>\n",
       "      <td>Broadway</td>\n",
       "    </tr>\n",
       "    <tr>\n",
       "      <th>85380</th>\n",
       "      <td>Garage Sale Pup Sonic bark deterrents 1.5\" Inc...</td>\n",
       "      <td>4.8</td>\n",
       "      <td>11184</td>\n",
       "      <td>[]</td>\n",
       "      <td>[]</td>\n",
       "      <td>[{'thumb': 'https://m.media-amazon.com/images/...</td>\n",
       "      <td>Garage Sale Pup</td>\n",
       "      <td>{'Color': 'Black and White', 'Size': 'Pcs-343'...</td>\n",
       "      <td>Garage Sale Pup</td>\n",
       "    </tr>\n",
       "    <tr>\n",
       "      <th>8268</th>\n",
       "      <td>L7 MANNEQUIN Realistic Mannequin Head with Sho...</td>\n",
       "      <td>4.8</td>\n",
       "      <td>1028</td>\n",
       "      <td>[This mannequin head Suitable for different st...</td>\n",
       "      <td>[]</td>\n",
       "      <td>[{'thumb': 'https://m.media-amazon.com/images/...</td>\n",
       "      <td>L7 MANNEQUIN</td>\n",
       "      <td>{'Brand': 'L7 MANNEQUIN', 'Color': 'Black', 'S...</td>\n",
       "      <td>L7 MANNEQUIN</td>\n",
       "    </tr>\n",
       "    <tr>\n",
       "      <th>75315</th>\n",
       "      <td>Vivaplex, 12, Clear, 2 oz Glass Bottles, with ...</td>\n",
       "      <td>4.8</td>\n",
       "      <td>2959</td>\n",
       "      <td>[12 - 2 oz, Clear Glass Bottles, with Black Li...</td>\n",
       "      <td>[These high quality clear glass bottles with b...</td>\n",
       "      <td>[{'thumb': 'https://m.media-amazon.com/images/...</td>\n",
       "      <td>Vivaplex</td>\n",
       "      <td>{'Brand': 'Vivaplex', 'Material': 'Glass', 'Co...</td>\n",
       "      <td>Vivaplex</td>\n",
       "    </tr>\n",
       "    <tr>\n",
       "      <th>70693</th>\n",
       "      <td>Hello Natural Apple Flavor Kids Fluoride Free ...</td>\n",
       "      <td>4.8</td>\n",
       "      <td>1514</td>\n",
       "      <td>[Contains four 1.5 ounce tubes of hello kids f...</td>\n",
       "      <td>[Say hello to naturally friendly and delish ap...</td>\n",
       "      <td>[{'thumb': 'https://m.media-amazon.com/images/...</td>\n",
       "      <td>hello</td>\n",
       "      <td>{'Brand': 'Hello', 'Flavor': 'Apple', 'Age Ran...</td>\n",
       "      <td>Hello</td>\n",
       "    </tr>\n",
       "    <tr>\n",
       "      <th>69527</th>\n",
       "      <td>Pack of 4200 3/4\" Round Color Coding Circle Do...</td>\n",
       "      <td>4.8</td>\n",
       "      <td>10476</td>\n",
       "      <td>[]</td>\n",
       "      <td>[]</td>\n",
       "      <td>[{'thumb': 'https://m.media-amazon.com/images/...</td>\n",
       "      <td>Garage Sale Pup</td>\n",
       "      <td>{'Color': 'Pcs-356', 'Size': 'pcs-356', 'Brand...</td>\n",
       "      <td>Garage Sale Pup</td>\n",
       "    </tr>\n",
       "    <tr>\n",
       "      <th>26549</th>\n",
       "      <td>Purpose Gentle Cleansing Wash, 6 oz (Pack of 2)</td>\n",
       "      <td>4.8</td>\n",
       "      <td>1540</td>\n",
       "      <td>[Purpose,gentle cleansing wash]</td>\n",
       "      <td>[This product is not eligible for priority shi...</td>\n",
       "      <td>[{'thumb': 'https://m.media-amazon.com/images/...</td>\n",
       "      <td>With a Purpose</td>\n",
       "      <td>{'Item Form': 'Gel', 'Brand': 'With a Purpose'...</td>\n",
       "      <td>With a Purpose</td>\n",
       "    </tr>\n",
       "    <tr>\n",
       "      <th>70828</th>\n",
       "      <td>1.25 Inch Round Thank You Labels with Heart, K...</td>\n",
       "      <td>4.8</td>\n",
       "      <td>10779</td>\n",
       "      <td>[]</td>\n",
       "      <td>[]</td>\n",
       "      <td>[{'thumb': 'https://m.media-amazon.com/images/...</td>\n",
       "      <td>Garage Sale Pup</td>\n",
       "      <td>{'Color': 'Pgu45', 'Size': 'PGU45', 'Material'...</td>\n",
       "      <td>Garage Sale Pup</td>\n",
       "    </tr>\n",
       "    <tr>\n",
       "      <th>27232</th>\n",
       "      <td>Oral-B Pro-Health Comfort Plus Mint Floss, Min...</td>\n",
       "      <td>4.8</td>\n",
       "      <td>2109</td>\n",
       "      <td>[Contains 6 packs of Oral-B Glide Pro-Health C...</td>\n",
       "      <td>[Oral-B Glide Pro-Heath Comfort Plus Floss is ...</td>\n",
       "      <td>[{'thumb': 'https://m.media-amazon.com/images/...</td>\n",
       "      <td>GLIDE</td>\n",
       "      <td>{'Brand': 'GLIDE', 'Dental Floss Type': 'Denta...</td>\n",
       "      <td>GLIDE</td>\n",
       "    </tr>\n",
       "    <tr>\n",
       "      <th>84293</th>\n",
       "      <td>Cerave Moisturizing Cream With Pump For Normal...</td>\n",
       "      <td>4.8</td>\n",
       "      <td>1011</td>\n",
       "      <td>[]</td>\n",
       "      <td>[All CeraVe products contain the essential cer...</td>\n",
       "      <td>[{'thumb': 'https://m.media-amazon.com/images/...</td>\n",
       "      <td>LUXSURE</td>\n",
       "      <td>{'Brand': 'LUXSURE', 'Unit Count': '38 Ounce',...</td>\n",
       "      <td>LUXSURE</td>\n",
       "    </tr>\n",
       "    <tr>\n",
       "      <th>71997</th>\n",
       "      <td>1.5\" Inch Round Kraft, Baked with Love, Sticke...</td>\n",
       "      <td>4.8</td>\n",
       "      <td>10775</td>\n",
       "      <td>[]</td>\n",
       "      <td>[]</td>\n",
       "      <td>[{'thumb': 'https://m.media-amazon.com/images/...</td>\n",
       "      <td>Garage Sale Pup</td>\n",
       "      <td>{'Color': 'Asin003', 'Size': 'ASIN003', 'Brand...</td>\n",
       "      <td>Garage Sale Pup</td>\n",
       "    </tr>\n",
       "    <tr>\n",
       "      <th>30726</th>\n",
       "      <td>Balneol Hygienic Cleansing Lotion, 3 oz. (Pack...</td>\n",
       "      <td>4.8</td>\n",
       "      <td>1017</td>\n",
       "      <td>[specially formulated, soothe the perianal, ex...</td>\n",
       "      <td>[Doctor recommended for over 30 years. For ana...</td>\n",
       "      <td>[{'thumb': 'https://m.media-amazon.com/images/...</td>\n",
       "      <td>Balneol</td>\n",
       "      <td>{'Item Form': 'Lotion', 'Skin Type': 'All', 'B...</td>\n",
       "      <td>Balneol</td>\n",
       "    </tr>\n",
       "    <tr>\n",
       "      <th>100639</th>\n",
       "      <td>Hibiclens Surgical Scrub 32 oz. Bottle (#57532...</td>\n",
       "      <td>4.8</td>\n",
       "      <td>2638</td>\n",
       "      <td>[]</td>\n",
       "      <td>[Hibiclens Surgical Scrub 32 oz. Bottle (#5753...</td>\n",
       "      <td>[{'thumb': 'https://m.media-amazon.com/images/...</td>\n",
       "      <td>Hibiclens</td>\n",
       "      <td>{'Brand': 'Hibiclens', 'Item Form': 'Scrub', '...</td>\n",
       "      <td>Hibiclens</td>\n",
       "    </tr>\n",
       "    <tr>\n",
       "      <th>100331</th>\n",
       "      <td>4.5 Inch Hair Bows For Girls Grosgrain Ribbon ...</td>\n",
       "      <td>4.8</td>\n",
       "      <td>1085</td>\n",
       "      <td>[]</td>\n",
       "      <td>[]</td>\n",
       "      <td>[{'thumb': 'https://m.media-amazon.com/images/...</td>\n",
       "      <td>Manwe</td>\n",
       "      <td>{'Brand': 'Manwe', 'Hair Type': 'All', 'Age Ra...</td>\n",
       "      <td>Manwe</td>\n",
       "    </tr>\n",
       "    <tr>\n",
       "      <th>80831</th>\n",
       "      <td>Pack of 1600 3/8 Inch Round Neon Color Coding ...</td>\n",
       "      <td>4.8</td>\n",
       "      <td>10793</td>\n",
       "      <td>[]</td>\n",
       "      <td>[]</td>\n",
       "      <td>[{'thumb': 'https://m.media-amazon.com/images/...</td>\n",
       "      <td>Garage Sale Pup</td>\n",
       "      <td>{'Color': 'Pcs-331', 'Size': 'pcs-331', 'Brand...</td>\n",
       "      <td>Garage Sale Pup</td>\n",
       "    </tr>\n",
       "    <tr>\n",
       "      <th>72146</th>\n",
       "      <td>Pack of 2100 Colorful Dog Paw Print Stickers, ...</td>\n",
       "      <td>4.8</td>\n",
       "      <td>10775</td>\n",
       "      <td>[]</td>\n",
       "      <td>[]</td>\n",
       "      <td>[{'thumb': 'https://m.media-amazon.com/images/...</td>\n",
       "      <td>Garage Sale Pup</td>\n",
       "      <td>{'Color': 'Pcs-348', 'Size': 'Pcs-348', 'Brand...</td>\n",
       "      <td>Garage Sale Pup</td>\n",
       "    </tr>\n",
       "    <tr>\n",
       "      <th>51298</th>\n",
       "      <td>NEWTGAN 20 PCS Mouse Ears for Birthday Party T...</td>\n",
       "      <td>4.8</td>\n",
       "      <td>2231</td>\n",
       "      <td>[DURABLE: Ears and bow are firmly attached to ...</td>\n",
       "      <td>[]</td>\n",
       "      <td>[{'thumb': 'https://m.media-amazon.com/images/...</td>\n",
       "      <td>NEWTGAN</td>\n",
       "      <td>{'Package Dimensions': '9.41 x 8.39 x 4.17 inc...</td>\n",
       "      <td>None</td>\n",
       "    </tr>\n",
       "    <tr>\n",
       "      <th>80733</th>\n",
       "      <td>Secret Original Shower Fresh Scent Women's Inv...</td>\n",
       "      <td>4.8</td>\n",
       "      <td>1010</td>\n",
       "      <td>[You will receive a Pack of 2 Secret Original ...</td>\n",
       "      <td>[Stay true with Secret. You can always be conf...</td>\n",
       "      <td>[{'thumb': 'https://m.media-amazon.com/images/...</td>\n",
       "      <td>Secret</td>\n",
       "      <td>{'Package Dimensions': '8.43 x 6.89 x 4.41 inc...</td>\n",
       "      <td>None</td>\n",
       "    </tr>\n",
       "    <tr>\n",
       "      <th>2513</th>\n",
       "      <td>Tigi Bedhead Hard Head Hairspray (6 Pack)</td>\n",
       "      <td>4.8</td>\n",
       "      <td>7060</td>\n",
       "      <td>[This maximum strength hairspray is the go-to ...</td>\n",
       "      <td>[One of the most popular of the Bed Head hair ...</td>\n",
       "      <td>[{'thumb': 'https://m.media-amazon.com/images/...</td>\n",
       "      <td>TIGI</td>\n",
       "      <td>{'Product Benefits': 'Strengthening, Shine', '...</td>\n",
       "      <td>TIGI</td>\n",
       "    </tr>\n",
       "    <tr>\n",
       "      <th>20852</th>\n",
       "      <td>Aquaphor Healing Ointment - Moisturizing Skin ...</td>\n",
       "      <td>4.8</td>\n",
       "      <td>1249</td>\n",
       "      <td>[One essential solution for many skincare need...</td>\n",
       "      <td>[Aquaphor Healing Ointment is designed specifi...</td>\n",
       "      <td>[{'thumb': 'https://m.media-amazon.com/images/...</td>\n",
       "      <td>Aquaphor</td>\n",
       "      <td>{'Brand': 'Aquaphor', 'Scent': 'fragrance free...</td>\n",
       "      <td>Aquaphor</td>\n",
       "    </tr>\n",
       "    <tr>\n",
       "      <th>43591</th>\n",
       "      <td>Picoway 20 Pack Mouse Ears Solid Black and Red...</td>\n",
       "      <td>4.8</td>\n",
       "      <td>11485</td>\n",
       "      <td>[GREAT VALUE: Come with 20 pcs Mouse Ears Head...</td>\n",
       "      <td>[WHAT YOU GET:, We will s erve you 30-DAY MONE...</td>\n",
       "      <td>[{'thumb': 'https://m.media-amazon.com/images/...</td>\n",
       "      <td>Picoway</td>\n",
       "      <td>{'Is Discontinued By Manufacturer': 'No', 'Pro...</td>\n",
       "      <td>None</td>\n",
       "    </tr>\n",
       "    <tr>\n",
       "      <th>15738</th>\n",
       "      <td>Rohto SKIN AQUA UV Super Moisture Gel 110g SPF...</td>\n",
       "      <td>4.7</td>\n",
       "      <td>2136</td>\n",
       "      <td>[]</td>\n",
       "      <td>[This is a Rohto sunscreen, SPF 50.]</td>\n",
       "      <td>[{'thumb': 'https://m.media-amazon.com/images/...</td>\n",
       "      <td>SKIN AQUA</td>\n",
       "      <td>{'Scent': 'Unscented', 'Product Benefits': 'Mo...</td>\n",
       "      <td>None</td>\n",
       "    </tr>\n",
       "    <tr>\n",
       "      <th>56821</th>\n",
       "      <td>MURO 128 5 Percent SOLUTION 15MED L</td>\n",
       "      <td>4.7</td>\n",
       "      <td>1798</td>\n",
       "      <td>[Sodium Chloride Hypertonicity Ophthalmic Solu...</td>\n",
       "      <td>[Muro 128 Solution offers effective temporary ...</td>\n",
       "      <td>[{'thumb': 'https://m.media-amazon.com/images/...</td>\n",
       "      <td>Bausch &amp; Lomb</td>\n",
       "      <td>{'Brand': 'Bausch &amp; Lomb', 'Item Weight': '0.0...</td>\n",
       "      <td>Bausch &amp; Lomb</td>\n",
       "    </tr>\n",
       "    <tr>\n",
       "      <th>112578</th>\n",
       "      <td>Pro by Oral-B 2500 3D White Pink Toothbrush wi...</td>\n",
       "      <td>4.7</td>\n",
       "      <td>14700</td>\n",
       "      <td>[]</td>\n",
       "      <td>[Description coming soon.]</td>\n",
       "      <td>[{'thumb': 'https://m.media-amazon.com/images/...</td>\n",
       "      <td>Oral-B</td>\n",
       "      <td>{'Brand': 'Oral-B', 'Age Range (Description)':...</td>\n",
       "      <td>Oral-B</td>\n",
       "    </tr>\n",
       "    <tr>\n",
       "      <th>59473</th>\n",
       "      <td>Orafix Premium Denture Bath (Pack of 2)</td>\n",
       "      <td>4.7</td>\n",
       "      <td>2440</td>\n",
       "      <td>[PREMIUM DENTURE BATH - (2 pack - colors vary)...</td>\n",
       "      <td>[No mess, no spill strainer! Great for daily c...</td>\n",
       "      <td>[{'thumb': 'https://m.media-amazon.com/images/...</td>\n",
       "      <td>Pepsodent</td>\n",
       "      <td>{'Brand': 'Pepsodent', 'Age Range (Description...</td>\n",
       "      <td>Pepsodent</td>\n",
       "    </tr>\n",
       "    <tr>\n",
       "      <th>59607</th>\n",
       "      <td>Segbeauty empty bottle 160083</td>\n",
       "      <td>4.7</td>\n",
       "      <td>11919</td>\n",
       "      <td>[]</td>\n",
       "      <td>[]</td>\n",
       "      <td>[{'thumb': 'https://m.media-amazon.com/images/...</td>\n",
       "      <td>Segbeauty</td>\n",
       "      <td>{'Brand': 'Segbeauty', 'Material': 'Plastic', ...</td>\n",
       "      <td>Segbeauty</td>\n",
       "    </tr>\n",
       "    <tr>\n",
       "      <th>13981</th>\n",
       "      <td>Helion Communications - Chakra Centers Referen...</td>\n",
       "      <td>4.7</td>\n",
       "      <td>1264</td>\n",
       "      <td>[GREAT ART: A well-chosen piece of art can be ...</td>\n",
       "      <td>[Practitioner student charts. Reference tools,...</td>\n",
       "      <td>[{'thumb': 'https://m.media-amazon.com/images/...</td>\n",
       "      <td>Helion Communications</td>\n",
       "      <td>{'Product Dimensions': '11.5 x 10.4 x 0.3 inch...</td>\n",
       "      <td>None</td>\n",
       "    </tr>\n",
       "    <tr>\n",
       "      <th>61196</th>\n",
       "      <td>32 Yards Ribbon Elastic Foldover Elastics Stre...</td>\n",
       "      <td>4.7</td>\n",
       "      <td>1260</td>\n",
       "      <td>[]</td>\n",
       "      <td>[]</td>\n",
       "      <td>[{'thumb': 'https://m.media-amazon.com/images/...</td>\n",
       "      <td>Mudder</td>\n",
       "      <td>{'Material': 'Polyester', 'Item Form': 'Ribbon...</td>\n",
       "      <td>Mudder</td>\n",
       "    </tr>\n",
       "    <tr>\n",
       "      <th>12938</th>\n",
       "      <td>Broadway Vita-Lip Mango Butter Lip Gloss</td>\n",
       "      <td>4.7</td>\n",
       "      <td>1203</td>\n",
       "      <td>[]</td>\n",
       "      <td>[-Vitamin oil enriched lip gloss -Moisturizing...</td>\n",
       "      <td>[{'thumb': 'https://m.media-amazon.com/images/...</td>\n",
       "      <td>Broadway</td>\n",
       "      <td>{'Brand': 'Broadway', 'Skin Type': 'All', 'Ite...</td>\n",
       "      <td>Broadway</td>\n",
       "    </tr>\n",
       "  </tbody>\n",
       "</table>\n",
       "</div>"
      ],
      "text/plain": [
       "                                                    title  average_rating  \\\n",
       "63448   100 Letterpress Note Cards and Self Seal Envel...             4.9   \n",
       "33374               Corn Huskers Lotion 7 oz ( Pack of 4)             4.9   \n",
       "95465   Graham Sanek Neck Strips- 2.5 x 17.5-12 pks w/...             4.8   \n",
       "76279              Tigi Bed Head Manipulator 2oz (3 PACK)             4.8   \n",
       "93953   1\" Metallic Red, Silver & Blue Stars Shape Foi...             4.8   \n",
       "63417   2-1/4\" x 1-1/4\" Chalkboard Black Paper Label S...             4.8   \n",
       "15974   Janeke Superbrush Brush (Green/Purple - 86SP22...             4.8   \n",
       "3954    Self Adhesive Tape - Yuelong 24Pack 2” x 5 Yar...             4.8   \n",
       "63206   1.5\" Heart Shape Kraft Paper Thank You Adhesiv...             4.8   \n",
       "77291   Hibiclens Antiseptic & Antimicrobial Skin Clea...             4.8   \n",
       "92150                          Segbeauty empty bottle 290             4.8   \n",
       "93453   Pack of 1008 1\" Round Color Coding Circle Dot ...             4.8   \n",
       "41410            Jack Black MP 10 Nourishing Oil, 2 Fl Oz             4.8   \n",
       "90686   Red Heart Shaped Sticker Labels, 1 1/4\" Diamet...             4.8   \n",
       "59370   1 Inch Round Thank You Sticker Labels in Scrip...             4.8   \n",
       "88581   3/4\" Bright Red Round Color Coding Circle Dot ...             4.8   \n",
       "88535   1 Inch Round Thank You Sticker Labels with Red...             4.8   \n",
       "79425   1 Inch Round Thank You Sticker Labels in Scrip...             4.8   \n",
       "43461   Clinique Dramatically Different Moisturizing L...             4.8   \n",
       "85863   Gauge Gear Ear Stretching Balm | 10 ml Jar | P...             4.8   \n",
       "43919   Soft & Dri, Aerosol, Antiperspirant Deodorant,...             4.8   \n",
       "5537                Broadway Vita-Lip Argan Oil Lip Gloss             4.8   \n",
       "85380   Garage Sale Pup Sonic bark deterrents 1.5\" Inc...             4.8   \n",
       "8268    L7 MANNEQUIN Realistic Mannequin Head with Sho...             4.8   \n",
       "75315   Vivaplex, 12, Clear, 2 oz Glass Bottles, with ...             4.8   \n",
       "70693   Hello Natural Apple Flavor Kids Fluoride Free ...             4.8   \n",
       "69527   Pack of 4200 3/4\" Round Color Coding Circle Do...             4.8   \n",
       "26549     Purpose Gentle Cleansing Wash, 6 oz (Pack of 2)             4.8   \n",
       "70828   1.25 Inch Round Thank You Labels with Heart, K...             4.8   \n",
       "27232   Oral-B Pro-Health Comfort Plus Mint Floss, Min...             4.8   \n",
       "84293   Cerave Moisturizing Cream With Pump For Normal...             4.8   \n",
       "71997   1.5\" Inch Round Kraft, Baked with Love, Sticke...             4.8   \n",
       "30726   Balneol Hygienic Cleansing Lotion, 3 oz. (Pack...             4.8   \n",
       "100639  Hibiclens Surgical Scrub 32 oz. Bottle (#57532...             4.8   \n",
       "100331  4.5 Inch Hair Bows For Girls Grosgrain Ribbon ...             4.8   \n",
       "80831   Pack of 1600 3/8 Inch Round Neon Color Coding ...             4.8   \n",
       "72146   Pack of 2100 Colorful Dog Paw Print Stickers, ...             4.8   \n",
       "51298   NEWTGAN 20 PCS Mouse Ears for Birthday Party T...             4.8   \n",
       "80733   Secret Original Shower Fresh Scent Women's Inv...             4.8   \n",
       "2513            Tigi Bedhead Hard Head Hairspray (6 Pack)             4.8   \n",
       "20852   Aquaphor Healing Ointment - Moisturizing Skin ...             4.8   \n",
       "43591   Picoway 20 Pack Mouse Ears Solid Black and Red...             4.8   \n",
       "15738   Rohto SKIN AQUA UV Super Moisture Gel 110g SPF...             4.7   \n",
       "56821                 MURO 128 5 Percent SOLUTION 15MED L             4.7   \n",
       "112578  Pro by Oral-B 2500 3D White Pink Toothbrush wi...             4.7   \n",
       "59473             Orafix Premium Denture Bath (Pack of 2)             4.7   \n",
       "59607                       Segbeauty empty bottle 160083             4.7   \n",
       "13981   Helion Communications - Chakra Centers Referen...             4.7   \n",
       "61196   32 Yards Ribbon Elastic Foldover Elastics Stre...             4.7   \n",
       "12938            Broadway Vita-Lip Mango Butter Lip Gloss             4.7   \n",
       "\n",
       "        rating_number                                           features  \\\n",
       "63448            2322  [SELF SEAL ENVELOPES: Perfect for bulk mailing...   \n",
       "33374            1027  [Moisturizes and softens dry skin, Soothes irr...   \n",
       "95465            1662  [Made of a soft, highly absorbent tissue, Neck...   \n",
       "76279            1260                                             [tigi]   \n",
       "93953           12203                                                 []   \n",
       "63417           10913                                                 []   \n",
       "15974            1708  [Flexible bristles gently massage the scalp. E...   \n",
       "3954             1406  [HIGH GRADE MATERIAL - The cohesive bandage wr...   \n",
       "63206           10913                                                 []   \n",
       "77291            2140  [Non-flammable formula, Less-irritating than o...   \n",
       "92150            4920                                                 []   \n",
       "93453           12198                                                 []   \n",
       "41410            1040                                                 []   \n",
       "90686           12196                                                 []   \n",
       "59370            4164                                                 []   \n",
       "88581           12205                                                 []   \n",
       "88535           12205                                                 []   \n",
       "79425           10789                                                 []   \n",
       "43461            1511                                                 []   \n",
       "85863            3876  [LUBRICANT - Gauge Gear lubricates your skin w...   \n",
       "43919            1661                                                 []   \n",
       "5537             1704                                                 []   \n",
       "85380           11184                                                 []   \n",
       "8268             1028  [This mannequin head Suitable for different st...   \n",
       "75315            2959  [12 - 2 oz, Clear Glass Bottles, with Black Li...   \n",
       "70693            1514  [Contains four 1.5 ounce tubes of hello kids f...   \n",
       "69527           10476                                                 []   \n",
       "26549            1540                    [Purpose,gentle cleansing wash]   \n",
       "70828           10779                                                 []   \n",
       "27232            2109  [Contains 6 packs of Oral-B Glide Pro-Health C...   \n",
       "84293            1011                                                 []   \n",
       "71997           10775                                                 []   \n",
       "30726            1017  [specially formulated, soothe the perianal, ex...   \n",
       "100639           2638                                                 []   \n",
       "100331           1085                                                 []   \n",
       "80831           10793                                                 []   \n",
       "72146           10775                                                 []   \n",
       "51298            2231  [DURABLE: Ears and bow are firmly attached to ...   \n",
       "80733            1010  [You will receive a Pack of 2 Secret Original ...   \n",
       "2513             7060  [This maximum strength hairspray is the go-to ...   \n",
       "20852            1249  [One essential solution for many skincare need...   \n",
       "43591           11485  [GREAT VALUE: Come with 20 pcs Mouse Ears Head...   \n",
       "15738            2136                                                 []   \n",
       "56821            1798  [Sodium Chloride Hypertonicity Ophthalmic Solu...   \n",
       "112578          14700                                                 []   \n",
       "59473            2440  [PREMIUM DENTURE BATH - (2 pack - colors vary)...   \n",
       "59607           11919                                                 []   \n",
       "13981            1264  [GREAT ART: A well-chosen piece of art can be ...   \n",
       "61196            1260                                                 []   \n",
       "12938            1203                                                 []   \n",
       "\n",
       "                                              description  \\\n",
       "63448   [Luxury Note Cards at an Affordable Price, Sho...   \n",
       "33374   [4 Bottles of CORN HUSKERS LOTION 7 oz   OIL F...   \n",
       "95465           [Graham Sanek Neck Strips 720 Strips/ pk]   \n",
       "76279                                                  []   \n",
       "93953                                           [ASIN020]   \n",
       "63417                                           [ASIN007]   \n",
       "15974                                                  []   \n",
       "3954                                                   []   \n",
       "63206                                           [ASIN001]   \n",
       "77291   [Skin wound and general skin cleansing: Thorou...   \n",
       "92150                                                  []   \n",
       "93453                                                  []   \n",
       "41410                                                  []   \n",
       "90686                                                  []   \n",
       "59370                                                  []   \n",
       "88581                                                  []   \n",
       "88535                                                  []   \n",
       "79425                                                  []   \n",
       "43461                                                  []   \n",
       "85863                                                  []   \n",
       "43919                                                  []   \n",
       "5537                                                   []   \n",
       "85380                                                  []   \n",
       "8268                                                   []   \n",
       "75315   [These high quality clear glass bottles with b...   \n",
       "70693   [Say hello to naturally friendly and delish ap...   \n",
       "69527                                                  []   \n",
       "26549   [This product is not eligible for priority shi...   \n",
       "70828                                                  []   \n",
       "27232   [Oral-B Glide Pro-Heath Comfort Plus Floss is ...   \n",
       "84293   [All CeraVe products contain the essential cer...   \n",
       "71997                                                  []   \n",
       "30726   [Doctor recommended for over 30 years. For ana...   \n",
       "100639  [Hibiclens Surgical Scrub 32 oz. Bottle (#5753...   \n",
       "100331                                                 []   \n",
       "80831                                                  []   \n",
       "72146                                                  []   \n",
       "51298                                                  []   \n",
       "80733   [Stay true with Secret. You can always be conf...   \n",
       "2513    [One of the most popular of the Bed Head hair ...   \n",
       "20852   [Aquaphor Healing Ointment is designed specifi...   \n",
       "43591   [WHAT YOU GET:, We will s erve you 30-DAY MONE...   \n",
       "15738                [This is a Rohto sunscreen, SPF 50.]   \n",
       "56821   [Muro 128 Solution offers effective temporary ...   \n",
       "112578                         [Description coming soon.]   \n",
       "59473   [No mess, no spill strainer! Great for daily c...   \n",
       "59607                                                  []   \n",
       "13981   [Practitioner student charts. Reference tools,...   \n",
       "61196                                                  []   \n",
       "12938   [-Vitamin oil enriched lip gloss -Moisturizing...   \n",
       "\n",
       "                                                   images  \\\n",
       "63448   [{'thumb': 'https://m.media-amazon.com/images/...   \n",
       "33374   [{'thumb': 'https://m.media-amazon.com/images/...   \n",
       "95465   [{'thumb': 'https://m.media-amazon.com/images/...   \n",
       "76279   [{'thumb': 'https://m.media-amazon.com/images/...   \n",
       "93953   [{'thumb': 'https://m.media-amazon.com/images/...   \n",
       "63417   [{'thumb': 'https://m.media-amazon.com/images/...   \n",
       "15974   [{'thumb': 'https://m.media-amazon.com/images/...   \n",
       "3954    [{'thumb': 'https://m.media-amazon.com/images/...   \n",
       "63206   [{'thumb': 'https://m.media-amazon.com/images/...   \n",
       "77291   [{'thumb': 'https://m.media-amazon.com/images/...   \n",
       "92150   [{'thumb': 'https://m.media-amazon.com/images/...   \n",
       "93453   [{'thumb': 'https://m.media-amazon.com/images/...   \n",
       "41410   [{'thumb': 'https://m.media-amazon.com/images/...   \n",
       "90686   [{'thumb': 'https://m.media-amazon.com/images/...   \n",
       "59370   [{'thumb': 'https://m.media-amazon.com/images/...   \n",
       "88581   [{'thumb': 'https://m.media-amazon.com/images/...   \n",
       "88535   [{'thumb': 'https://m.media-amazon.com/images/...   \n",
       "79425   [{'thumb': 'https://m.media-amazon.com/images/...   \n",
       "43461   [{'thumb': 'https://m.media-amazon.com/images/...   \n",
       "85863   [{'thumb': 'https://m.media-amazon.com/images/...   \n",
       "43919   [{'thumb': 'https://m.media-amazon.com/images/...   \n",
       "5537    [{'thumb': 'https://m.media-amazon.com/images/...   \n",
       "85380   [{'thumb': 'https://m.media-amazon.com/images/...   \n",
       "8268    [{'thumb': 'https://m.media-amazon.com/images/...   \n",
       "75315   [{'thumb': 'https://m.media-amazon.com/images/...   \n",
       "70693   [{'thumb': 'https://m.media-amazon.com/images/...   \n",
       "69527   [{'thumb': 'https://m.media-amazon.com/images/...   \n",
       "26549   [{'thumb': 'https://m.media-amazon.com/images/...   \n",
       "70828   [{'thumb': 'https://m.media-amazon.com/images/...   \n",
       "27232   [{'thumb': 'https://m.media-amazon.com/images/...   \n",
       "84293   [{'thumb': 'https://m.media-amazon.com/images/...   \n",
       "71997   [{'thumb': 'https://m.media-amazon.com/images/...   \n",
       "30726   [{'thumb': 'https://m.media-amazon.com/images/...   \n",
       "100639  [{'thumb': 'https://m.media-amazon.com/images/...   \n",
       "100331  [{'thumb': 'https://m.media-amazon.com/images/...   \n",
       "80831   [{'thumb': 'https://m.media-amazon.com/images/...   \n",
       "72146   [{'thumb': 'https://m.media-amazon.com/images/...   \n",
       "51298   [{'thumb': 'https://m.media-amazon.com/images/...   \n",
       "80733   [{'thumb': 'https://m.media-amazon.com/images/...   \n",
       "2513    [{'thumb': 'https://m.media-amazon.com/images/...   \n",
       "20852   [{'thumb': 'https://m.media-amazon.com/images/...   \n",
       "43591   [{'thumb': 'https://m.media-amazon.com/images/...   \n",
       "15738   [{'thumb': 'https://m.media-amazon.com/images/...   \n",
       "56821   [{'thumb': 'https://m.media-amazon.com/images/...   \n",
       "112578  [{'thumb': 'https://m.media-amazon.com/images/...   \n",
       "59473   [{'thumb': 'https://m.media-amazon.com/images/...   \n",
       "59607   [{'thumb': 'https://m.media-amazon.com/images/...   \n",
       "13981   [{'thumb': 'https://m.media-amazon.com/images/...   \n",
       "61196   [{'thumb': 'https://m.media-amazon.com/images/...   \n",
       "12938   [{'thumb': 'https://m.media-amazon.com/images/...   \n",
       "\n",
       "                        store  \\\n",
       "63448        Opie's Paper Co.   \n",
       "33374       Johnson & Johnson   \n",
       "95465     Graham Professional   \n",
       "76279                    TIGI   \n",
       "93953         Garage Sale Pup   \n",
       "63417         Garage Sale Pup   \n",
       "15974                  Jäneke   \n",
       "3954                  Yuelong   \n",
       "63206         Garage Sale Pup   \n",
       "77291                    YYOJ   \n",
       "92150                  TruuMe   \n",
       "93453         Garage Sale Pup   \n",
       "41410                     NaN   \n",
       "90686         Garage Sale Pup   \n",
       "59370         Garage Sale Pup   \n",
       "88581         Garage Sale Pup   \n",
       "88535         Garage Sale Pup   \n",
       "79425         Garage Sale Pup   \n",
       "43461                Clinique   \n",
       "85863              Gauge Gear   \n",
       "43919              Soft & Dri   \n",
       "5537                 Broadway   \n",
       "85380         Garage Sale Pup   \n",
       "8268             L7 MANNEQUIN   \n",
       "75315                Vivaplex   \n",
       "70693                   hello   \n",
       "69527         Garage Sale Pup   \n",
       "26549          With a Purpose   \n",
       "70828         Garage Sale Pup   \n",
       "27232                   GLIDE   \n",
       "84293                 LUXSURE   \n",
       "71997         Garage Sale Pup   \n",
       "30726                 Balneol   \n",
       "100639              Hibiclens   \n",
       "100331                  Manwe   \n",
       "80831         Garage Sale Pup   \n",
       "72146         Garage Sale Pup   \n",
       "51298                 NEWTGAN   \n",
       "80733                  Secret   \n",
       "2513                     TIGI   \n",
       "20852                Aquaphor   \n",
       "43591                 Picoway   \n",
       "15738               SKIN AQUA   \n",
       "56821           Bausch & Lomb   \n",
       "112578                 Oral-B   \n",
       "59473               Pepsodent   \n",
       "59607               Segbeauty   \n",
       "13981   Helion Communications   \n",
       "61196                  Mudder   \n",
       "12938                Broadway   \n",
       "\n",
       "                                                  details              brand  \n",
       "63448   {'Is Discontinued By Manufacturer': 'No', 'Pro...               None  \n",
       "33374   {'Brand': 'Johnson & Johnson', 'Item Form': 'L...  Johnson & Johnson  \n",
       "95465   {'Is Discontinued By Manufacturer': 'No', 'Pac...               None  \n",
       "76279   {'Product Benefits': 'Frizz Control', 'Hair Ty...               None  \n",
       "93953   {'Color': 'Asin020', 'Size': 'ASIN020', 'Brand...    Garage Sale Pup  \n",
       "63417   {'Color': 'Asin007', 'Size': 'ASIN007', 'Brand...    Garage Sale Pup  \n",
       "15974   {'Brand': 'Jäneke', 'Color': 'Green,Purple', '...             Jäneke  \n",
       "3954    {'Package Dimensions': '9.5 x 7.2 x 4.6 inches...               None  \n",
       "63206   {'Color': 'Asin001', 'Size': 'ASIN001', 'Brand...    Garage Sale Pup  \n",
       "77291   {'Item Form': 'Liquid', 'Brand': 'YYOJ', 'Mate...               YYOJ  \n",
       "92150   {'Brand': 'Segbeauty', 'Color': 'Clear', 'Mate...          Segbeauty  \n",
       "93453   {'Color': 'Asin019', 'Size': 'ASIN019', 'Brand...    Garage Sale Pup  \n",
       "41410   {'Brand': 'Jack Black', 'Scent': 'Watermelon, ...         Jack Black  \n",
       "90686   {'Color': '36k', 'Size': '36K', 'Brand': 'Gara...    Garage Sale Pup  \n",
       "59370   {'Color': 'Asin021', 'Size': 'ASIN021', 'Brand...    Garage Sale Pup  \n",
       "88581   {'Color': 'Pcs-361', 'Size': 'pcs-361', 'Brand...    Garage Sale Pup  \n",
       "88535   {'Color': 'Pcs-358', 'Size': 'pcs-358', 'Brand...    Garage Sale Pup  \n",
       "79425   {'Is Discontinued By Manufacturer': 'No', 'Pro...               None  \n",
       "43461   {'Brand': 'Clinique', 'Scent': 'Fragrance Free...           Clinique  \n",
       "85863   {'Is Discontinued By Manufacturer': 'No', 'Pac...               None  \n",
       "43919   {'Brand': 'Soft & Dri', 'Item Form': 'Spray', ...         Soft & Dri  \n",
       "5537    {'Brand': 'Broadway', 'Skin Type': 'All', 'Ite...           Broadway  \n",
       "85380   {'Color': 'Black and White', 'Size': 'Pcs-343'...    Garage Sale Pup  \n",
       "8268    {'Brand': 'L7 MANNEQUIN', 'Color': 'Black', 'S...       L7 MANNEQUIN  \n",
       "75315   {'Brand': 'Vivaplex', 'Material': 'Glass', 'Co...           Vivaplex  \n",
       "70693   {'Brand': 'Hello', 'Flavor': 'Apple', 'Age Ran...              Hello  \n",
       "69527   {'Color': 'Pcs-356', 'Size': 'pcs-356', 'Brand...    Garage Sale Pup  \n",
       "26549   {'Item Form': 'Gel', 'Brand': 'With a Purpose'...     With a Purpose  \n",
       "70828   {'Color': 'Pgu45', 'Size': 'PGU45', 'Material'...    Garage Sale Pup  \n",
       "27232   {'Brand': 'GLIDE', 'Dental Floss Type': 'Denta...              GLIDE  \n",
       "84293   {'Brand': 'LUXSURE', 'Unit Count': '38 Ounce',...            LUXSURE  \n",
       "71997   {'Color': 'Asin003', 'Size': 'ASIN003', 'Brand...    Garage Sale Pup  \n",
       "30726   {'Item Form': 'Lotion', 'Skin Type': 'All', 'B...            Balneol  \n",
       "100639  {'Brand': 'Hibiclens', 'Item Form': 'Scrub', '...          Hibiclens  \n",
       "100331  {'Brand': 'Manwe', 'Hair Type': 'All', 'Age Ra...              Manwe  \n",
       "80831   {'Color': 'Pcs-331', 'Size': 'pcs-331', 'Brand...    Garage Sale Pup  \n",
       "72146   {'Color': 'Pcs-348', 'Size': 'Pcs-348', 'Brand...    Garage Sale Pup  \n",
       "51298   {'Package Dimensions': '9.41 x 8.39 x 4.17 inc...               None  \n",
       "80733   {'Package Dimensions': '8.43 x 6.89 x 4.41 inc...               None  \n",
       "2513    {'Product Benefits': 'Strengthening, Shine', '...               TIGI  \n",
       "20852   {'Brand': 'Aquaphor', 'Scent': 'fragrance free...           Aquaphor  \n",
       "43591   {'Is Discontinued By Manufacturer': 'No', 'Pro...               None  \n",
       "15738   {'Scent': 'Unscented', 'Product Benefits': 'Mo...               None  \n",
       "56821   {'Brand': 'Bausch & Lomb', 'Item Weight': '0.0...      Bausch & Lomb  \n",
       "112578  {'Brand': 'Oral-B', 'Age Range (Description)':...             Oral-B  \n",
       "59473   {'Brand': 'Pepsodent', 'Age Range (Description...          Pepsodent  \n",
       "59607   {'Brand': 'Segbeauty', 'Material': 'Plastic', ...          Segbeauty  \n",
       "13981   {'Product Dimensions': '11.5 x 10.4 x 0.3 inch...               None  \n",
       "61196   {'Material': 'Polyester', 'Item Form': 'Ribbon...             Mudder  \n",
       "12938   {'Brand': 'Broadway', 'Skin Type': 'All', 'Ite...           Broadway  "
      ]
     },
     "execution_count": 200,
     "metadata": {},
     "output_type": "execute_result"
    }
   ],
   "source": [
    "df[df['rating_number'] > 1000] # df[] support boolean, therefore only true will be kept. \n",
    "bigger_than_1000=df[df['rating_number'] > 1000]\n",
    "\n",
    "select_product= bigger_than_1000.sort_values(by=\"average_rating\",ascending=False)\n",
    "select_product.head(50)\n",
    "\n",
    "# Product \"100 letterpress note card...\" and \"Corn Huskers Lotion 7 Oz\" have the highest average rating"
   ]
  },
  {
   "cell_type": "markdown",
   "metadata": {},
   "source": [
    "# 6. Do these top-rated products share common characteristics?\n"
   ]
  },
  {
   "cell_type": "code",
   "execution_count": 214,
   "metadata": {},
   "outputs": [],
   "source": [
    "df[df['rating_number'] > 1000] # df[] support boolean, therefore only true will be kept. \n",
    "bigger_than_1000=df[df['rating_number'] > 1000]\n",
    "\n",
    "select_product= bigger_than_1000.sort_values(by=\"average_rating\",ascending=False)\n",
    "top_50=select_product.head(50)\n",
    "\n",
    "top_50['details']\n",
    "\n",
    "#save it in excel to analyze the top 50 products' detail column \n",
    "top_50['details'].to_csv('top_50_detail2.csv',index=True)\n",
    "\n",
    "\n",
    "\n",
    "# Ans: 1. 38 out of 50 products have brand names. 2. And 48 products out of the top 50 have a \"dimension\" description. "
   ]
  },
  {
   "cell_type": "markdown",
   "metadata": {},
   "source": [
    "# 7. Display images and print details of the top 10 highest-rated products."
   ]
  },
  {
   "cell_type": "code",
   "execution_count": 217,
   "metadata": {},
   "outputs": [
    {
     "name": "stdout",
     "output_type": "stream",
     "text": [
      "['https://m.media-amazon.com/images/I/419oi-H1DeL.jpg', 'https://m.media-amazon.com/images/I/51+2zxwHeVL.jpg', 'https://m.media-amazon.com/images/I/51fgG25z54L.jpg', 'https://m.media-amazon.com/images/I/41jsKEc4oxL.jpg', 'https://m.media-amazon.com/images/I/41zaWbYxhVL.jpg', 'https://m.media-amazon.com/images/I/31-UbgiAYXL.jpg', 'https://m.media-amazon.com/images/I/415CgZExO1L.jpg', 'https://m.media-amazon.com/images/I/61Gbqzg-NBL.jpg', 'https://m.media-amazon.com/images/I/41NWun9k+oL.jpg', 'https://m.media-amazon.com/images/I/51e0vdzIfGL.jpg']\n"
     ]
    }
   ],
   "source": [
    "# Display image \n",
    "df[df['rating_number'] > 1000] # df[] support boolean, therefore only true will be kept. \n",
    "bigger_than_1000=df[df['rating_number'] > 1000]\n",
    "\n",
    "select_product= bigger_than_1000.sort_values(by=\"average_rating\",ascending=False)\n",
    "top_10=select_product.head(10)\n",
    "\n",
    "\n",
    "result=[]\n",
    "for i in range(10):\n",
    "    result.append(top_10.iloc[i].images[0][\"large\"])\n",
    "\n",
    "print(result)\n",
    "\n"
   ]
  },
  {
   "cell_type": "code",
   "execution_count": 219,
   "metadata": {},
   "outputs": [
    {
     "data": {
      "text/plain": [
       "63448    {'Is Discontinued By Manufacturer': 'No', 'Pro...\n",
       "33374    {'Brand': 'Johnson & Johnson', 'Item Form': 'L...\n",
       "95465    {'Is Discontinued By Manufacturer': 'No', 'Pac...\n",
       "76279    {'Product Benefits': 'Frizz Control', 'Hair Ty...\n",
       "93953    {'Color': 'Asin020', 'Size': 'ASIN020', 'Brand...\n",
       "63417    {'Color': 'Asin007', 'Size': 'ASIN007', 'Brand...\n",
       "15974    {'Brand': 'Jäneke', 'Color': 'Green,Purple', '...\n",
       "3954     {'Package Dimensions': '9.5 x 7.2 x 4.6 inches...\n",
       "63206    {'Color': 'Asin001', 'Size': 'ASIN001', 'Brand...\n",
       "77291    {'Item Form': 'Liquid', 'Brand': 'YYOJ', 'Mate...\n",
       "Name: details, dtype: object"
      ]
     },
     "execution_count": 219,
     "metadata": {},
     "output_type": "execute_result"
    }
   ],
   "source": [
    "# Print top 10 details. \n",
    "\n",
    "# option 1: see only the beggining\n",
    "top_10[\"details\"]\n"
   ]
  },
  {
   "cell_type": "code",
   "execution_count": 221,
   "metadata": {},
   "outputs": [
    {
     "name": "stdout",
     "output_type": "stream",
     "text": [
      "[{'Is Discontinued By Manufacturer': 'No', 'Product Dimensions': '11.5 x 4.2 x 5.2 inches; 3.24 Pounds', 'UPC': '648499871505', 'Manufacturer': \"Opie's Paper Co.\"}, {'Brand': 'Johnson & Johnson', 'Item Form': 'Lotion', 'Unit Count': '28 Fl Oz', 'Number of Items': '4', 'Use for': 'Whole Body', 'Is Discontinued By Manufacturer': 'No', 'Product Dimensions': '2.57 x 1.25 x 6.75 inches; 8 Ounces', 'Item model number': 'Hand Lotion', 'UPC': '885830512752 312547481274', 'Manufacturer': 'Johnson & Johnson'}, {'Is Discontinued By Manufacturer': 'No', 'Package Dimensions': '8.19 x 5.98 x 4.84 inches; 3.31 Pounds', 'Item model number': '43310E', 'UPC': '794437488363', 'Manufacturer': 'Graham Professional'}, {'Product Benefits': 'Frizz Control', 'Hair Type': 'All', 'Material Type Free': 'Benzyl Alcohol', 'Scent': 'tropical', 'Liquid Volume': '2 Fluid Ounces', 'Is Discontinued By Manufacturer': 'No', 'Product Dimensions': '2 x 2 x 2 inches; 8.64 Ounces', 'Item model number': '942110', 'UPC': '787734557924 763985661535 632181674628', 'Manufacturer': 'Tigi'}, {'Color': 'Asin020', 'Size': 'ASIN020', 'Brand': 'Garage Sale Pup', 'Finish Type': 'Adhesive', 'Shape': 'Novelty', 'Product Dimensions': '9 x 1 x 3 inches; 4.8 Ounces', 'Item model number': 'ASKRSB1500', 'Manufacturer': 'Garage Sale Pup'}, {'Color': 'Asin007', 'Size': 'ASIN007', 'Brand': 'Garage Sale Pup', 'Number of Labels': '350', 'Product Dimensions': '6 x 1.25 x 6 inches; 4.66 Ounces', 'Item model number': 'AJDCK350', 'Manufacturer': 'Garage Sale Pup'}, {'Brand': 'Jäneke', 'Color': 'Green,Purple', 'Shape': 'Oblong', 'Product Benefits': 'Detangle', 'Unit Count': '1.00 Count', 'Is Discontinued By Manufacturer': 'No', 'Product Dimensions': '8.58 x 1.5 x 3.7 inches; 2.82 Ounces', 'Item model number': '86SP226-VER'}, {'Package Dimensions': '9.5 x 7.2 x 4.6 inches; 1.1 Pounds', 'Manufacturer': 'Yuelong'}, {'Color': 'Asin001', 'Size': 'ASIN001', 'Brand': 'Garage Sale Pup', 'Finish Type': 'Varnish', 'Shape': 'Heart', 'Is Discontinued By Manufacturer': 'No', 'Product Dimensions': '8 x 2 x 6 inches; 4.8 Ounces', 'Manufacturer': 'Garage Sale Pup'}, {'Item Form': 'Liquid', 'Brand': 'YYOJ', 'Material Feature': 'Antiseptic', 'Age Range (Description)': 'Adult', 'Number of Items': '2', 'Is Discontinued By Manufacturer': 'No', 'Package Dimensions': '9.3 x 7.2 x 3.5 inches; 4.7 Pounds', 'Item model number': '最新の絶妙な製品-8', 'UPC': '601897253045', 'Manufacturer': 'Hibiclens'}]\n"
     ]
    }
   ],
   "source": [
    "# option 2 : see all sentences \n",
    "df[df['rating_number'] > 1000] # df[] support boolean, therefore only true will be kept. \n",
    "bigger_than_1000=df[df['rating_number'] > 1000]\n",
    "\n",
    "select_product= bigger_than_1000.sort_values(by=\"average_rating\",ascending=False)\n",
    "top_10=select_product.head(10)\n",
    "\n",
    "\n",
    "result=[]\n",
    "for i in range(10):\n",
    "    result.append(top_10.iloc[i].details)\n",
    "    \n",
    "print(result)"
   ]
  },
  {
   "cell_type": "markdown",
   "metadata": {},
   "source": [
    "# 8.What will be a good marketing strategy when your company launches its first product?"
   ]
  },
  {
   "cell_type": "markdown",
   "metadata": {},
   "source": [
    "Ans: Lol don't judge me. But if I have enough budget, I will go and \"BUY\" some comments with good ratings in the beginning as the base, especially for the first product. The reason is normally customers never see your brand even your product. It is hard to make them buy especially when you don't have any comments and ratings. However, once I have the base of the review and rating number. It will be easier to sell my product.\n",
    "\n",
    "But firstly, I need to put more details in the \"details column\" part, as I explored previously in Top 50 products, the result showed efficient to higher conversion rate. And also need to put more description one the product.\n",
    "\n",
    "Secondly, I need to put clear images or high-resolution images to let customers have a better impression and visual-info. \n",
    "\n",
    "To sum up, the three most important elements and strategy are: \n",
    "1. A sufficient number of ratings with good scores\n",
    "2. Detailed and elaborate product information\n",
    "3. Also put the appealing description \n",
    "4. High-resolution images\n"
   ]
  },
  {
   "cell_type": "markdown",
   "metadata": {},
   "source": [
    "# * Own questions below: "
   ]
  },
  {
   "cell_type": "markdown",
   "metadata": {},
   "source": [
    "# 9.How many products have descriptions amoung Top 50 highest average rating? "
   ]
  },
  {
   "cell_type": "code",
   "execution_count": 227,
   "metadata": {},
   "outputs": [
    {
     "data": {
      "text/plain": [
       "24"
      ]
     },
     "execution_count": 227,
     "metadata": {},
     "output_type": "execute_result"
    }
   ],
   "source": [
    "# To see if having a description is a critical factor to be in Top 50 highest average rating.  \n",
    "top_50_with_desc = top_50['description'].apply(lambda x: len(x) > 0 if isinstance(x, list) else False).sum()\n",
    "\n",
    "top_50_with_desc\n",
    "\n",
    "#Ans: Only almost half (24 out of 50) of products have descriptions. It is kind of not mandatory to have it "
   ]
  },
  {
   "cell_type": "markdown",
   "metadata": {},
   "source": [
    "# 10 Which stores have AVERAGE ratings lower than 3 ? We need to look into it or talk to owner "
   ]
  },
  {
   "cell_type": "code",
   "execution_count": 230,
   "metadata": {},
   "outputs": [
    {
     "data": {
      "text/plain": [
       "store\n",
       "(3 Pack) MILANI Fierce Foil Eyeliner - Navy Foil …    1.0\n",
       "Newborn Coin                                          1.0\n",
       "Nizi Jewelry                                          1.0\n",
       "Charter Inc                                           1.0\n",
       "Charme                                                1.0\n",
       "                                                     ... \n",
       "Deuiosna                                              2.3\n",
       "Urrtreusor                                            2.3\n",
       "Superhairpieces                                       2.3\n",
       "Kaia Naturals                                         2.3\n",
       "Suntee                                                2.3\n",
       "Name: average_rating, Length: 1000, dtype: float64"
      ]
     },
     "execution_count": 230,
     "metadata": {},
     "output_type": "execute_result"
    }
   ],
   "source": [
    "# Step 1 : group by store and calculate mean average_rating\n",
    "lowest_score_store = df.groupby('store')['average_rating'].mean()\n",
    "\n",
    "# Step 2: the scores lower than 3, must be considered to be deleted from AMAZON\n",
    "stores_lower_3 = lowest_score_store[lowest_score_store < 3]\n",
    "From_low_to_high = stores_lower_3.sort_values(ascending=True)\n",
    "\n",
    "# Step 3: At least talk to the vendor or store owner for these 1000 stores that don't have good performance\n",
    "From_low_to_high.head(1000) \n"
   ]
  },
  {
   "cell_type": "markdown",
   "metadata": {},
   "source": [
    "# 11. Is there any relation between the average rating socre and number of ratings?"
   ]
  },
  {
   "cell_type": "code",
   "execution_count": 505,
   "metadata": {},
   "outputs": [
    {
     "data": {
      "image/png": "[encoded data removed]",
      "text/plain": [
       "<Figure size 1000x1000 with 1 Axes>"
      ]
     },
     "metadata": {},
     "output_type": "display_data"
    }
   ],
   "source": [
    "import matplotlib.pyplot as plt\n",
    "import seaborn as sns\n",
    "\n",
    "plt.figure(figsize=(10, 10))\n",
    "sns.scatterplot(data=top_50, x='average_rating', y='rating_number')\n",
    "plt.title('Relationship between Average Rating and Number of Ratings')\n",
    "plt.xlabel('Average Rating')\n",
    "plt.ylabel('Number of Ratings')\n",
    "plt.show()\n",
    "\n",
    "# Ans: The result shows that there is no correlation between the average rating score and the number of ratings. \n",
    "# It's not at all a linear regression model. "
   ]
  },
  {
   "cell_type": "markdown",
   "metadata": {},
   "source": [
    "# 12 .Does number of images influence the average_rating?"
   ]
  },
  {
   "cell_type": "code",
   "execution_count": 233,
   "metadata": {},
   "outputs": [
    {
     "data": {
      "image/png": "[encoded data removed]",
      "text/plain": [
       "<Figure size 1000x600 with 1 Axes>"
      ]
     },
     "metadata": {},
     "output_type": "display_data"
    }
   ],
   "source": [
    "# I am wondering if the images affect the average rating and purchase numbers. Somehow, customers can't leave a rating without buying products. \n",
    "\n",
    "# check if image is saved list format, if yes count it, if not enter 0 \n",
    "df['num_images'] = df['images'].apply(lambda x: len(x) if isinstance(x, list) else 0) \n",
    "\n",
    "# Create a scatter plot to show the correlation between the number of images and average ratings\n",
    "plt.figure(figsize=(10, 6))\n",
    "sns.scatterplot(data=df, x='num_images', y='average_rating')\n",
    "plt.title('Correlation between Number of Images and Product Ratings')\n",
    "plt.xlabel('Number of Images')\n",
    "plt.ylabel('Average Rating')\n",
    "plt.show()\n",
    "\n",
    "# Ans: Yes, indeed, it affects the average rating score. As you can see, images with a number greater than ten only have higher scores. "
   ]
  },
  {
   "cell_type": "markdown",
   "metadata": {},
   "source": [
    "# 13 Count the number of image which is less than 3 images and its percentage ? \n"
   ]
  },
  {
   "cell_type": "code",
   "execution_count": 509,
   "metadata": {},
   "outputs": [
    {
     "name": "stdout",
     "output_type": "stream",
     "text": [
      "33557\n"
     ]
    },
    {
     "data": {
      "text/plain": [
       "29.804600763833378"
      ]
     },
     "execution_count": 509,
     "metadata": {},
     "output_type": "execute_result"
    }
   ],
   "source": [
    "# count number of image for each product, if there is no then return 0 \n",
    "df['num_images'] = df['images'].apply(lambda x: len(x) if isinstance(x, list) else 0)\n",
    "\n",
    "# select numbers < 3 \n",
    "few_images_products = df[df['num_images'] < 3]\n",
    "\n",
    "# count\n",
    "count_few_images = len(few_images_products)\n",
    "\n",
    "print(count_few_images)\n",
    "\n",
    "\n",
    "total_products = len(df)\n",
    "\n",
    "percentage_few_images = (count_few_images / total_products) * 100\n",
    "\n",
    "percentage_few_images\n",
    "\n",
    "# number of images is 33557\n",
    "# The percentage among all products is 29.8%\n",
    "\n",
    "# Ans: Means it is the trend or common behavior for vendors to upload more images (>3) to attract customers."
   ]
  },
  {
   "cell_type": "markdown",
   "metadata": {},
   "source": [
    "# 14. How many products are higher than average score ratings for a rating number more than 30? What is the percentage among all products ?"
   ]
  },
  {
   "cell_type": "markdown",
   "metadata": {},
   "source": [
    "\n",
    "The reason why I use rating numbers more than 30 is based on the Applied statistics course, the sample size needs to be over 30 can be considered big enough to follow the  normal distribution theory. \n"
   ]
  },
  {
   "cell_type": "code",
   "execution_count": 512,
   "metadata": {},
   "outputs": [
    {
     "name": "stdout",
     "output_type": "stream",
     "text": [
      "18976\n"
     ]
    },
    {
     "data": {
      "text/plain": [
       "16.85407229771738"
      ]
     },
     "execution_count": 512,
     "metadata": {},
     "output_type": "execute_result"
    }
   ],
   "source": [
    "# step 1: calculate the average rating\n",
    "average_rating = df['average_rating'].mean()\n",
    "\n",
    "# step 2: Filter higher than the average and rating_number > 30\n",
    "filtered_products = df[(df['average_rating'] > average_rating) & (df['rating_number'] > 30)]\n",
    "\n",
    "# Count \n",
    "count= len(filtered_products)\n",
    "\n",
    "# Calculate the percentage\n",
    "percentage_filtered_products = (count/ len(df)) * 100\n",
    "\n",
    "print(count)\n",
    "percentage_filtered_products\n",
    "\n",
    "\n",
    "# Ans: Number of products with a rating higher than the average and rating_number: 18976\n",
    "# Ans: Percentage of such products among all products: 16.85%\n"
   ]
  },
  {
   "cell_type": "markdown",
   "metadata": {},
   "source": [
    "# 15.  I want to know if the column STORE are exactly the same as Brand(Key value pair) info in the column DETAILS\n"
   ]
  },
  {
   "cell_type": "code",
   "execution_count": 514,
   "metadata": {},
   "outputs": [
    {
     "name": "stdout",
     "output_type": "stream",
     "text": [
      "Number of matching rows: 69837\n"
     ]
    }
   ],
   "source": [
    "# step 1: in Question 3, I already extract Brand name from detail column and save data is new column called \"Brand\"\n",
    "\n",
    "# Step 2: create another column to save if the extracted brand same as stores name\n",
    "df['is_store_same_as_extracted_brand'] = df['store'] == df['brand']\n",
    "\n",
    "# Step 3: Count how many rows have the same name in stores (extracted brand name in original detail column) \n",
    "count = df['is_store_same_as_extracted_brand'].sum()\n",
    "\n",
    "print(f\"Number of matching rows: {count}\")\n"
   ]
  },
  {
   "cell_type": "code",
   "execution_count": 515,
   "metadata": {},
   "outputs": [
    {
     "data": {
      "text/plain": [
       "<bound method Series.sum of 0                Howard Products\n",
       "1                         Yes To\n",
       "2         Levine Health Products\n",
       "3                       Cherioll\n",
       "4                      Precision\n",
       "                   ...          \n",
       "112585                  TOPREETY\n",
       "112586             Pets Playmate\n",
       "112587                RainMakers\n",
       "112588                    Xcoser\n",
       "112589                      DVIO\n",
       "Name: store, Length: 112590, dtype: object>"
      ]
     },
     "execution_count": 515,
     "metadata": {},
     "output_type": "execute_result"
    }
   ],
   "source": [
    " # step 4: count how many rows of stores there are \n",
    "df['store'].sum"
   ]
  },
  {
   "cell_type": "code",
   "execution_count": 516,
   "metadata": {},
   "outputs": [
    {
     "name": "stdout",
     "output_type": "stream",
     "text": [
      "42753\n"
     ]
    }
   ],
   "source": [
    "# therefore, only  69837 rows out of  112590 that the brand names from detail info have the same name in the STORE column. \n",
    "# Still have 42753  rows are not the same. Therefore, in Q3, we can't just use the store's name to be considered as the Brand name. \n",
    "result=112590-69837\n",
    "print(result)"
   ]
  },
  {
   "cell_type": "code",
   "execution_count": null,
   "metadata": {},
   "outputs": [],
   "source": []
  },
  {
   "cell_type": "code",
   "execution_count": null,
   "metadata": {},
   "outputs": [],
   "source": []
  },
  {
   "cell_type": "code",
   "execution_count": null,
   "metadata": {},
   "outputs": [],
   "source": []
  },
  {
   "cell_type": "code",
   "execution_count": null,
   "metadata": {},
   "outputs": [],
   "source": []
  }
 ],
 "metadata": {
  "kernelspec": {
   "display_name": "Python 3 (ipykernel)",
   "language": "python",
   "name": "python3"
  },
  "language_info": {
   "codemirror_mode": {
    "name": "ipython",
    "version": 3
   },
   "file_extension": ".py",
   "mimetype": "text/x-python",
   "name": "python",
   "nbconvert_exporter": "python",
   "pygments_lexer": "ipython3",
   "version": "3.12.4"
  }
 },
 "nbformat": 4,
 "nbformat_minor": 4
}
